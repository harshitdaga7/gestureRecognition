{
  "nbformat": 4,
  "nbformat_minor": 0,
  "metadata": {
    "kernelspec": {
      "display_name": "Python 3",
      "language": "python",
      "name": "python3"
    },
    "language_info": {
      "codemirror_mode": {
        "name": "ipython",
        "version": 3
      },
      "file_extension": ".py",
      "mimetype": "text/x-python",
      "name": "python",
      "nbconvert_exporter": "python",
      "pygments_lexer": "ipython3",
      "version": "3.8.5"
    },
    "colab": {
      "name": "keypoint_classification_EN.ipynb",
      "provenance": [],
      "collapsed_sections": []
    },
    "accelerator": "GPU"
  },
  "cells": [
    {
      "cell_type": "code",
      "metadata": {
        "id": "igMyGnjE9hEp"
      },
      "source": [
        "import json\n",
        "import numpy as np\n",
        "import tensorflow as tf\n",
        "from sklearn.model_selection import train_test_split\n",
        "\n",
        "RANDOM_SEED = 42"
      ],
      "execution_count": 1,
      "outputs": []
    },
    {
      "cell_type": "markdown",
      "metadata": {
        "id": "t2HDvhIu9hEr"
      },
      "source": [
        "# Specify each path"
      ]
    },
    {
      "cell_type": "code",
      "metadata": {
        "id": "9NvZP2Zn9hEy"
      },
      "source": [
        "dataset = 'static_data.json'\n",
        "model_save_path = 'keypoint_classifier.hdf5'\n",
        "tflite_save_path = 'keypoint_classifier.tflite'"
      ],
      "execution_count": 2,
      "outputs": []
    },
    {
      "cell_type": "markdown",
      "metadata": {
        "id": "s5oMH7x19hEz"
      },
      "source": [
        "# Set number of classes"
      ]
    },
    {
      "cell_type": "code",
      "metadata": {
        "id": "du4kodXL9hEz"
      },
      "source": [
        "NUM_CLASSES = 3"
      ],
      "execution_count": 3,
      "outputs": []
    },
    {
      "cell_type": "markdown",
      "metadata": {
        "id": "XjnL0uso9hEz"
      },
      "source": [
        "# Dataset reading"
      ]
    },
    {
      "cell_type": "code",
      "source": [
        "data = None\n",
        "with open(dataset,'r') as f :\n",
        "  data = json.load(f)"
      ],
      "metadata": {
        "id": "6RRlClrnhAxA"
      },
      "execution_count": 4,
      "outputs": []
    },
    {
      "cell_type": "code",
      "source": [
        "classNames = list(data.keys())"
      ],
      "metadata": {
        "id": "zRAWkllehWKn"
      },
      "execution_count": 7,
      "outputs": []
    },
    {
      "cell_type": "code",
      "source": [
        "classNames"
      ],
      "metadata": {
        "colab": {
          "base_uri": "https://localhost:8080/"
        },
        "id": "QQs9utRyhYyo",
        "outputId": "3ff93f66-b11c-4054-ca44-4aeb1a27c669"
      },
      "execution_count": 8,
      "outputs": [
        {
          "output_type": "execute_result",
          "data": {
            "text/plain": [
              "['i', 'open', 'close']"
            ]
          },
          "metadata": {},
          "execution_count": 8
        }
      ]
    },
    {
      "cell_type": "code",
      "source": [
        "classIndexMap = {}\n",
        "for x,i in enumerate(classNames):\n",
        "  classIndexMap[i] = x\n",
        "\n",
        "classIndexMap"
      ],
      "metadata": {
        "colab": {
          "base_uri": "https://localhost:8080/"
        },
        "id": "OIChB9kRhh8o",
        "outputId": "011054b8-895e-42c1-b96e-ba5eaefacabe"
      },
      "execution_count": 9,
      "outputs": [
        {
          "output_type": "execute_result",
          "data": {
            "text/plain": [
              "{'close': 2, 'i': 0, 'open': 1}"
            ]
          },
          "metadata": {},
          "execution_count": 9
        }
      ]
    },
    {
      "cell_type": "code",
      "source": [
        "x_ = []\n",
        "y_ = []\n",
        "\n",
        "for l in classNames:\n",
        "  temp_x = data[l]\n",
        "  temp_y = [classIndexMap[l] for i in range(len(temp_x))]\n",
        "  x_.extend(temp_x)\n",
        "  y_.extend(temp_y)\n",
        "\n",
        "len(x_),len(y_)  "
      ],
      "metadata": {
        "colab": {
          "base_uri": "https://localhost:8080/"
        },
        "id": "jcgyYiyih3Q3",
        "outputId": "50d41e81-154e-410b-ec4c-b44cb7316824"
      },
      "execution_count": 11,
      "outputs": [
        {
          "output_type": "execute_result",
          "data": {
            "text/plain": [
              "(1803, 1803)"
            ]
          },
          "metadata": {},
          "execution_count": 11
        }
      ]
    },
    {
      "cell_type": "code",
      "source": [
        ""
      ],
      "metadata": {
        "colab": {
          "base_uri": "https://localhost:8080/"
        },
        "id": "5EWCNl4ViyfI",
        "outputId": "d35c7415-40c3-44c5-e026-8db3d46159c2"
      },
      "execution_count": 13,
      "outputs": [
        {
          "output_type": "execute_result",
          "data": {
            "text/plain": [
              "2"
            ]
          },
          "metadata": {},
          "execution_count": 13
        }
      ]
    },
    {
      "cell_type": "code",
      "metadata": {
        "id": "QT5ZqtEz9hE0"
      },
      "source": [
        "X_dataset = np.array(x_).astype(np.float32)"
      ],
      "execution_count": 14,
      "outputs": []
    },
    {
      "cell_type": "code",
      "metadata": {
        "id": "QmoKFsp49hE0"
      },
      "source": [
        "y_dataset = np.array(y_).astype(np.float32)"
      ],
      "execution_count": 15,
      "outputs": []
    },
    {
      "cell_type": "code",
      "metadata": {
        "id": "xQU7JTZ_9hE0"
      },
      "source": [
        "X_train, X_test, y_train, y_test = train_test_split(X_dataset, y_dataset, train_size=0.75, random_state=RANDOM_SEED)"
      ],
      "execution_count": 16,
      "outputs": []
    },
    {
      "cell_type": "code",
      "source": [
        ""
      ],
      "metadata": {
        "colab": {
          "base_uri": "https://localhost:8080/"
        },
        "id": "jRLZjZ7IjEWt",
        "outputId": "1a5c2d4a-017a-4978-fcaf-21fb12f6e542"
      },
      "execution_count": 18,
      "outputs": [
        {
          "output_type": "execute_result",
          "data": {
            "text/plain": [
              "(1803, 42)"
            ]
          },
          "metadata": {},
          "execution_count": 18
        }
      ]
    },
    {
      "cell_type": "markdown",
      "metadata": {
        "id": "mxK_lETT9hE0"
      },
      "source": [
        "# Model building"
      ]
    },
    {
      "cell_type": "code",
      "metadata": {
        "id": "vHBmUf1t9hE1"
      },
      "source": [
        "model = tf.keras.models.Sequential([\n",
        "    tf.keras.layers.Input((21 * 2, )),\n",
        "    tf.keras.layers.Dropout(0.2),\n",
        "    tf.keras.layers.Dense(20, activation='relu'),\n",
        "    tf.keras.layers.Dropout(0.4),\n",
        "    tf.keras.layers.Dense(10, activation='relu'),\n",
        "    tf.keras.layers.Dense(NUM_CLASSES, activation='softmax')\n",
        "])"
      ],
      "execution_count": 19,
      "outputs": []
    },
    {
      "cell_type": "code",
      "metadata": {
        "id": "ypqky9tc9hE1",
        "colab": {
          "base_uri": "https://localhost:8080/"
        },
        "outputId": "5c0b6046-42c7-45c0-f164-5bd6a33c85a5"
      },
      "source": [
        "model.summary()  # tf.keras.utils.plot_model(model, show_shapes=True)"
      ],
      "execution_count": 20,
      "outputs": [
        {
          "output_type": "stream",
          "name": "stdout",
          "text": [
            "Model: \"sequential\"\n",
            "_________________________________________________________________\n",
            " Layer (type)                Output Shape              Param #   \n",
            "=================================================================\n",
            " dropout (Dropout)           (None, 42)                0         \n",
            "                                                                 \n",
            " dense (Dense)               (None, 20)                860       \n",
            "                                                                 \n",
            " dropout_1 (Dropout)         (None, 20)                0         \n",
            "                                                                 \n",
            " dense_1 (Dense)             (None, 10)                210       \n",
            "                                                                 \n",
            " dense_2 (Dense)             (None, 3)                 33        \n",
            "                                                                 \n",
            "=================================================================\n",
            "Total params: 1,103\n",
            "Trainable params: 1,103\n",
            "Non-trainable params: 0\n",
            "_________________________________________________________________\n"
          ]
        }
      ]
    },
    {
      "cell_type": "code",
      "metadata": {
        "id": "MbMjOflQ9hE1"
      },
      "source": [
        "# Model checkpoint callback\n",
        "cp_callback = tf.keras.callbacks.ModelCheckpoint(\n",
        "    model_save_path, verbose=1, save_weights_only=False)\n",
        "# Callback for early stopping\n",
        "es_callback = tf.keras.callbacks.EarlyStopping(patience=20, verbose=1)"
      ],
      "execution_count": 21,
      "outputs": []
    },
    {
      "cell_type": "code",
      "metadata": {
        "id": "c3Dac0M_9hE2"
      },
      "source": [
        "# Model compilation\n",
        "model.compile(\n",
        "    optimizer='adam',\n",
        "    loss='sparse_categorical_crossentropy',\n",
        "    metrics=['accuracy']\n",
        ")"
      ],
      "execution_count": 22,
      "outputs": []
    },
    {
      "cell_type": "markdown",
      "metadata": {
        "id": "7XI0j1Iu9hE2"
      },
      "source": [
        "# Model training"
      ]
    },
    {
      "cell_type": "code",
      "metadata": {
        "scrolled": true,
        "id": "WirBl-JE9hE3",
        "colab": {
          "base_uri": "https://localhost:8080/"
        },
        "outputId": "0a0fed8d-e6ff-4c2b-d39d-b7093591650e"
      },
      "source": [
        "model.fit(\n",
        "    X_train,\n",
        "    y_train,\n",
        "    epochs=1000,\n",
        "    batch_size=128,\n",
        "    validation_data=(X_test, y_test),\n",
        "    callbacks=[cp_callback, es_callback]\n",
        ")"
      ],
      "execution_count": 23,
      "outputs": [
        {
          "output_type": "stream",
          "name": "stdout",
          "text": [
            "Epoch 1/1000\n",
            "11/11 [==============================] - ETA: 0s - loss: 1.1076 - accuracy: 0.3491 \n",
            "Epoch 1: saving model to keypoint_classifier.hdf5\n",
            "11/11 [==============================] - 3s 32ms/step - loss: 1.1076 - accuracy: 0.3491 - val_loss: 1.0734 - val_accuracy: 0.5233\n",
            "Epoch 2/1000\n",
            " 1/11 [=>............................] - ETA: 0s - loss: 1.0811 - accuracy: 0.3594\n",
            "Epoch 2: saving model to keypoint_classifier.hdf5\n",
            "11/11 [==============================] - 0s 11ms/step - loss: 1.0779 - accuracy: 0.3846 - val_loss: 1.0525 - val_accuracy: 0.4834\n",
            "Epoch 3/1000\n",
            " 1/11 [=>............................] - ETA: 0s - loss: 1.0658 - accuracy: 0.3906\n",
            "Epoch 3: saving model to keypoint_classifier.hdf5\n",
            "11/11 [==============================] - 0s 12ms/step - loss: 1.0654 - accuracy: 0.4142 - val_loss: 1.0073 - val_accuracy: 0.6829\n",
            "Epoch 4/1000\n",
            " 1/11 [=>............................] - ETA: 0s - loss: 1.0398 - accuracy: 0.4219\n",
            "Epoch 4: saving model to keypoint_classifier.hdf5\n",
            "11/11 [==============================] - 0s 12ms/step - loss: 1.0398 - accuracy: 0.4482 - val_loss: 0.9532 - val_accuracy: 0.9911\n",
            "Epoch 5/1000\n",
            " 1/11 [=>............................] - ETA: 0s - loss: 1.0280 - accuracy: 0.4922\n",
            "Epoch 5: saving model to keypoint_classifier.hdf5\n",
            "11/11 [==============================] - 0s 12ms/step - loss: 1.0009 - accuracy: 0.5385 - val_loss: 0.9150 - val_accuracy: 0.9911\n",
            "Epoch 6/1000\n",
            "11/11 [==============================] - ETA: 0s - loss: 0.9863 - accuracy: 0.5436\n",
            "Epoch 6: saving model to keypoint_classifier.hdf5\n",
            "11/11 [==============================] - 0s 13ms/step - loss: 0.9863 - accuracy: 0.5436 - val_loss: 0.8727 - val_accuracy: 0.9734\n",
            "Epoch 7/1000\n",
            " 1/11 [=>............................] - ETA: 0s - loss: 0.9419 - accuracy: 0.5703\n",
            "Epoch 7: saving model to keypoint_classifier.hdf5\n",
            "11/11 [==============================] - 0s 10ms/step - loss: 0.9566 - accuracy: 0.5732 - val_loss: 0.8320 - val_accuracy: 0.9468\n",
            "Epoch 8/1000\n",
            " 1/11 [=>............................] - ETA: 0s - loss: 0.9562 - accuracy: 0.5703\n",
            "Epoch 8: saving model to keypoint_classifier.hdf5\n",
            "11/11 [==============================] - 0s 10ms/step - loss: 0.9223 - accuracy: 0.6139 - val_loss: 0.7965 - val_accuracy: 0.9645\n",
            "Epoch 9/1000\n",
            " 1/11 [=>............................] - ETA: 0s - loss: 0.9190 - accuracy: 0.5625\n",
            "Epoch 9: saving model to keypoint_classifier.hdf5\n",
            "11/11 [==============================] - 0s 11ms/step - loss: 0.8793 - accuracy: 0.6235 - val_loss: 0.7494 - val_accuracy: 0.9623\n",
            "Epoch 10/1000\n",
            " 1/11 [=>............................] - ETA: 0s - loss: 0.8987 - accuracy: 0.6094\n",
            "Epoch 10: saving model to keypoint_classifier.hdf5\n",
            "11/11 [==============================] - 0s 11ms/step - loss: 0.8311 - accuracy: 0.6583 - val_loss: 0.6931 - val_accuracy: 0.9690\n",
            "Epoch 11/1000\n",
            " 1/11 [=>............................] - ETA: 0s - loss: 0.8575 - accuracy: 0.6172\n",
            "Epoch 11: saving model to keypoint_classifier.hdf5\n",
            "11/11 [==============================] - 0s 11ms/step - loss: 0.8070 - accuracy: 0.6871 - val_loss: 0.6370 - val_accuracy: 0.9756\n",
            "Epoch 12/1000\n",
            " 1/11 [=>............................] - ETA: 0s - loss: 0.7259 - accuracy: 0.7109\n",
            "Epoch 12: saving model to keypoint_classifier.hdf5\n",
            "11/11 [==============================] - 0s 12ms/step - loss: 0.7491 - accuracy: 0.7130 - val_loss: 0.5717 - val_accuracy: 0.9800\n",
            "Epoch 13/1000\n",
            " 1/11 [=>............................] - ETA: 0s - loss: 0.6827 - accuracy: 0.7344\n",
            "Epoch 13: saving model to keypoint_classifier.hdf5\n",
            "11/11 [==============================] - 0s 10ms/step - loss: 0.6951 - accuracy: 0.7263 - val_loss: 0.5195 - val_accuracy: 0.9823\n",
            "Epoch 14/1000\n",
            " 1/11 [=>............................] - ETA: 0s - loss: 0.7227 - accuracy: 0.7188\n",
            "Epoch 14: saving model to keypoint_classifier.hdf5\n",
            "11/11 [==============================] - 0s 12ms/step - loss: 0.6450 - accuracy: 0.7552 - val_loss: 0.4667 - val_accuracy: 0.9823\n",
            "Epoch 15/1000\n",
            " 1/11 [=>............................] - ETA: 0s - loss: 0.6260 - accuracy: 0.7344\n",
            "Epoch 15: saving model to keypoint_classifier.hdf5\n",
            "11/11 [==============================] - 0s 11ms/step - loss: 0.6100 - accuracy: 0.7744 - val_loss: 0.4194 - val_accuracy: 0.9823\n",
            "Epoch 16/1000\n",
            " 1/11 [=>............................] - ETA: 0s - loss: 0.5920 - accuracy: 0.7656\n",
            "Epoch 16: saving model to keypoint_classifier.hdf5\n",
            "11/11 [==============================] - 0s 11ms/step - loss: 0.5890 - accuracy: 0.7796 - val_loss: 0.3844 - val_accuracy: 0.9823\n",
            "Epoch 17/1000\n",
            " 1/11 [=>............................] - ETA: 0s - loss: 0.5543 - accuracy: 0.7734\n",
            "Epoch 17: saving model to keypoint_classifier.hdf5\n",
            "11/11 [==============================] - 0s 11ms/step - loss: 0.5740 - accuracy: 0.7729 - val_loss: 0.3634 - val_accuracy: 0.9823\n",
            "Epoch 18/1000\n",
            " 1/11 [=>............................] - ETA: 0s - loss: 0.5298 - accuracy: 0.7969\n",
            "Epoch 18: saving model to keypoint_classifier.hdf5\n",
            "11/11 [==============================] - 0s 12ms/step - loss: 0.5243 - accuracy: 0.8025 - val_loss: 0.3363 - val_accuracy: 0.9911\n",
            "Epoch 19/1000\n",
            " 1/11 [=>............................] - ETA: 0s - loss: 0.4804 - accuracy: 0.8672\n",
            "Epoch 19: saving model to keypoint_classifier.hdf5\n",
            "11/11 [==============================] - 0s 13ms/step - loss: 0.5032 - accuracy: 0.8070 - val_loss: 0.3085 - val_accuracy: 0.9911\n",
            "Epoch 20/1000\n",
            "11/11 [==============================] - ETA: 0s - loss: 0.4805 - accuracy: 0.8232\n",
            "Epoch 20: saving model to keypoint_classifier.hdf5\n",
            "11/11 [==============================] - 0s 14ms/step - loss: 0.4805 - accuracy: 0.8232 - val_loss: 0.2924 - val_accuracy: 0.9911\n",
            "Epoch 21/1000\n",
            " 1/11 [=>............................] - ETA: 0s - loss: 0.4987 - accuracy: 0.7969\n",
            "Epoch 21: saving model to keypoint_classifier.hdf5\n",
            "11/11 [==============================] - 0s 12ms/step - loss: 0.4719 - accuracy: 0.8195 - val_loss: 0.2770 - val_accuracy: 0.9911\n",
            "Epoch 22/1000\n",
            " 1/11 [=>............................] - ETA: 0s - loss: 0.4378 - accuracy: 0.8516\n",
            "Epoch 22: saving model to keypoint_classifier.hdf5\n",
            "11/11 [==============================] - 0s 12ms/step - loss: 0.4526 - accuracy: 0.8232 - val_loss: 0.2595 - val_accuracy: 0.9911\n",
            "Epoch 23/1000\n",
            " 1/11 [=>............................] - ETA: 0s - loss: 0.4648 - accuracy: 0.8125\n",
            "Epoch 23: saving model to keypoint_classifier.hdf5\n",
            "11/11 [==============================] - 0s 12ms/step - loss: 0.4510 - accuracy: 0.8254 - val_loss: 0.2450 - val_accuracy: 0.9911\n",
            "Epoch 24/1000\n",
            " 1/11 [=>............................] - ETA: 0s - loss: 0.4801 - accuracy: 0.8672\n",
            "Epoch 24: saving model to keypoint_classifier.hdf5\n",
            "11/11 [==============================] - 0s 11ms/step - loss: 0.4394 - accuracy: 0.8351 - val_loss: 0.2364 - val_accuracy: 0.9911\n",
            "Epoch 25/1000\n",
            " 1/11 [=>............................] - ETA: 0s - loss: 0.4000 - accuracy: 0.8906\n",
            "Epoch 25: saving model to keypoint_classifier.hdf5\n",
            "11/11 [==============================] - 0s 12ms/step - loss: 0.4271 - accuracy: 0.8410 - val_loss: 0.2296 - val_accuracy: 0.9911\n",
            "Epoch 26/1000\n",
            " 1/11 [=>............................] - ETA: 0s - loss: 0.4154 - accuracy: 0.8281\n",
            "Epoch 26: saving model to keypoint_classifier.hdf5\n",
            "11/11 [==============================] - 0s 12ms/step - loss: 0.4099 - accuracy: 0.8491 - val_loss: 0.2232 - val_accuracy: 0.9911\n",
            "Epoch 27/1000\n",
            "10/11 [==========================>...] - ETA: 0s - loss: 0.4110 - accuracy: 0.8461\n",
            "Epoch 27: saving model to keypoint_classifier.hdf5\n",
            "11/11 [==============================] - 0s 13ms/step - loss: 0.4141 - accuracy: 0.8439 - val_loss: 0.2143 - val_accuracy: 0.9911\n",
            "Epoch 28/1000\n",
            " 1/11 [=>............................] - ETA: 0s - loss: 0.4598 - accuracy: 0.8281\n",
            "Epoch 28: saving model to keypoint_classifier.hdf5\n",
            "11/11 [==============================] - 0s 12ms/step - loss: 0.4010 - accuracy: 0.8484 - val_loss: 0.2098 - val_accuracy: 0.9911\n",
            "Epoch 29/1000\n",
            "11/11 [==============================] - ETA: 0s - loss: 0.3851 - accuracy: 0.8513\n",
            "Epoch 29: saving model to keypoint_classifier.hdf5\n",
            "11/11 [==============================] - 0s 13ms/step - loss: 0.3851 - accuracy: 0.8513 - val_loss: 0.2071 - val_accuracy: 0.9911\n",
            "Epoch 30/1000\n",
            " 1/11 [=>............................] - ETA: 0s - loss: 0.4087 - accuracy: 0.8203\n",
            "Epoch 30: saving model to keypoint_classifier.hdf5\n",
            "11/11 [==============================] - 0s 11ms/step - loss: 0.3708 - accuracy: 0.8484 - val_loss: 0.1994 - val_accuracy: 0.9933\n",
            "Epoch 31/1000\n",
            " 1/11 [=>............................] - ETA: 0s - loss: 0.3985 - accuracy: 0.8594\n",
            "Epoch 31: saving model to keypoint_classifier.hdf5\n",
            "11/11 [==============================] - 0s 12ms/step - loss: 0.3825 - accuracy: 0.8565 - val_loss: 0.1948 - val_accuracy: 0.9933\n",
            "Epoch 32/1000\n",
            "11/11 [==============================] - ETA: 0s - loss: 0.3376 - accuracy: 0.8824\n",
            "Epoch 32: saving model to keypoint_classifier.hdf5\n",
            "11/11 [==============================] - 0s 13ms/step - loss: 0.3376 - accuracy: 0.8824 - val_loss: 0.1850 - val_accuracy: 0.9933\n",
            "Epoch 33/1000\n",
            " 9/11 [=======================>......] - ETA: 0s - loss: 0.3453 - accuracy: 0.8655\n",
            "Epoch 33: saving model to keypoint_classifier.hdf5\n",
            "11/11 [==============================] - 0s 14ms/step - loss: 0.3402 - accuracy: 0.8698 - val_loss: 0.1709 - val_accuracy: 0.9933\n",
            "Epoch 34/1000\n",
            "11/11 [==============================] - ETA: 0s - loss: 0.3585 - accuracy: 0.8691\n",
            "Epoch 34: saving model to keypoint_classifier.hdf5\n",
            "11/11 [==============================] - 0s 13ms/step - loss: 0.3585 - accuracy: 0.8691 - val_loss: 0.1620 - val_accuracy: 0.9933\n",
            "Epoch 35/1000\n",
            " 1/11 [=>............................] - ETA: 0s - loss: 0.3568 - accuracy: 0.8906\n",
            "Epoch 35: saving model to keypoint_classifier.hdf5\n",
            "11/11 [==============================] - 0s 12ms/step - loss: 0.3398 - accuracy: 0.8728 - val_loss: 0.1670 - val_accuracy: 0.9933\n",
            "Epoch 36/1000\n",
            " 1/11 [=>............................] - ETA: 0s - loss: 0.3898 - accuracy: 0.8281\n",
            "Epoch 36: saving model to keypoint_classifier.hdf5\n",
            "11/11 [==============================] - 0s 11ms/step - loss: 0.3362 - accuracy: 0.8691 - val_loss: 0.1721 - val_accuracy: 0.9933\n",
            "Epoch 37/1000\n",
            " 1/11 [=>............................] - ETA: 0s - loss: 0.3355 - accuracy: 0.8594\n",
            "Epoch 37: saving model to keypoint_classifier.hdf5\n",
            "11/11 [==============================] - 0s 11ms/step - loss: 0.3181 - accuracy: 0.8743 - val_loss: 0.1656 - val_accuracy: 0.9911\n",
            "Epoch 38/1000\n",
            " 1/11 [=>............................] - ETA: 0s - loss: 0.3311 - accuracy: 0.8750\n",
            "Epoch 38: saving model to keypoint_classifier.hdf5\n",
            "11/11 [==============================] - 0s 11ms/step - loss: 0.3311 - accuracy: 0.8757 - val_loss: 0.1557 - val_accuracy: 0.9933\n",
            "Epoch 39/1000\n",
            " 1/11 [=>............................] - ETA: 0s - loss: 0.2850 - accuracy: 0.8906\n",
            "Epoch 39: saving model to keypoint_classifier.hdf5\n",
            "11/11 [==============================] - 0s 12ms/step - loss: 0.3216 - accuracy: 0.8669 - val_loss: 0.1521 - val_accuracy: 0.9933\n",
            "Epoch 40/1000\n",
            " 1/11 [=>............................] - ETA: 0s - loss: 0.3313 - accuracy: 0.8672\n",
            "Epoch 40: saving model to keypoint_classifier.hdf5\n",
            "11/11 [==============================] - 0s 12ms/step - loss: 0.3156 - accuracy: 0.8772 - val_loss: 0.1568 - val_accuracy: 0.9933\n",
            "Epoch 41/1000\n",
            " 1/11 [=>............................] - ETA: 0s - loss: 0.2885 - accuracy: 0.8906\n",
            "Epoch 41: saving model to keypoint_classifier.hdf5\n",
            "11/11 [==============================] - 0s 12ms/step - loss: 0.2852 - accuracy: 0.8942 - val_loss: 0.1509 - val_accuracy: 0.9933\n",
            "Epoch 42/1000\n",
            "11/11 [==============================] - ETA: 0s - loss: 0.2718 - accuracy: 0.9046\n",
            "Epoch 42: saving model to keypoint_classifier.hdf5\n",
            "11/11 [==============================] - 0s 14ms/step - loss: 0.2718 - accuracy: 0.9046 - val_loss: 0.1472 - val_accuracy: 0.9933\n",
            "Epoch 43/1000\n",
            " 1/11 [=>............................] - ETA: 0s - loss: 0.2506 - accuracy: 0.8984\n",
            "Epoch 43: saving model to keypoint_classifier.hdf5\n",
            "11/11 [==============================] - 0s 11ms/step - loss: 0.2919 - accuracy: 0.8905 - val_loss: 0.1421 - val_accuracy: 0.9933\n",
            "Epoch 44/1000\n",
            " 1/11 [=>............................] - ETA: 0s - loss: 0.2949 - accuracy: 0.8906\n",
            "Epoch 44: saving model to keypoint_classifier.hdf5\n",
            "11/11 [==============================] - 0s 12ms/step - loss: 0.2809 - accuracy: 0.8972 - val_loss: 0.1386 - val_accuracy: 0.9933\n",
            "Epoch 45/1000\n",
            " 1/11 [=>............................] - ETA: 0s - loss: 0.2863 - accuracy: 0.8906\n",
            "Epoch 45: saving model to keypoint_classifier.hdf5\n",
            "11/11 [==============================] - 0s 11ms/step - loss: 0.2891 - accuracy: 0.8920 - val_loss: 0.1403 - val_accuracy: 0.9933\n",
            "Epoch 46/1000\n",
            " 1/11 [=>............................] - ETA: 0s - loss: 0.3019 - accuracy: 0.8828\n",
            "Epoch 46: saving model to keypoint_classifier.hdf5\n",
            "11/11 [==============================] - 0s 11ms/step - loss: 0.2606 - accuracy: 0.9053 - val_loss: 0.1415 - val_accuracy: 0.9933\n",
            "Epoch 47/1000\n",
            "10/11 [==========================>...] - ETA: 0s - loss: 0.2684 - accuracy: 0.8945\n",
            "Epoch 47: saving model to keypoint_classifier.hdf5\n",
            "11/11 [==============================] - 0s 13ms/step - loss: 0.2758 - accuracy: 0.8928 - val_loss: 0.1429 - val_accuracy: 0.9933\n",
            "Epoch 48/1000\n",
            " 1/11 [=>............................] - ETA: 0s - loss: 0.2580 - accuracy: 0.8672\n",
            "Epoch 48: saving model to keypoint_classifier.hdf5\n",
            "11/11 [==============================] - 0s 11ms/step - loss: 0.2841 - accuracy: 0.8928 - val_loss: 0.1417 - val_accuracy: 0.9933\n",
            "Epoch 49/1000\n",
            "11/11 [==============================] - ETA: 0s - loss: 0.2795 - accuracy: 0.9024\n",
            "Epoch 49: saving model to keypoint_classifier.hdf5\n",
            "11/11 [==============================] - 0s 13ms/step - loss: 0.2795 - accuracy: 0.9024 - val_loss: 0.1392 - val_accuracy: 0.9933\n",
            "Epoch 50/1000\n",
            " 1/11 [=>............................] - ETA: 0s - loss: 0.2672 - accuracy: 0.8828\n",
            "Epoch 50: saving model to keypoint_classifier.hdf5\n",
            "11/11 [==============================] - 0s 10ms/step - loss: 0.2814 - accuracy: 0.8891 - val_loss: 0.1354 - val_accuracy: 0.9933\n",
            "Epoch 51/1000\n",
            " 1/11 [=>............................] - ETA: 0s - loss: 0.2057 - accuracy: 0.9531\n",
            "Epoch 51: saving model to keypoint_classifier.hdf5\n",
            "11/11 [==============================] - 0s 11ms/step - loss: 0.2642 - accuracy: 0.9068 - val_loss: 0.1314 - val_accuracy: 0.9933\n",
            "Epoch 52/1000\n",
            " 1/11 [=>............................] - ETA: 0s - loss: 0.2180 - accuracy: 0.9219\n",
            "Epoch 52: saving model to keypoint_classifier.hdf5\n",
            "11/11 [==============================] - 0s 13ms/step - loss: 0.2544 - accuracy: 0.9024 - val_loss: 0.1233 - val_accuracy: 0.9933\n",
            "Epoch 53/1000\n",
            " 1/11 [=>............................] - ETA: 0s - loss: 0.2330 - accuracy: 0.9219\n",
            "Epoch 53: saving model to keypoint_classifier.hdf5\n",
            "11/11 [==============================] - 0s 11ms/step - loss: 0.2522 - accuracy: 0.9083 - val_loss: 0.1185 - val_accuracy: 0.9933\n",
            "Epoch 54/1000\n",
            "11/11 [==============================] - ETA: 0s - loss: 0.2689 - accuracy: 0.8920\n",
            "Epoch 54: saving model to keypoint_classifier.hdf5\n",
            "11/11 [==============================] - 0s 13ms/step - loss: 0.2689 - accuracy: 0.8920 - val_loss: 0.1266 - val_accuracy: 0.9933\n",
            "Epoch 55/1000\n",
            " 1/11 [=>............................] - ETA: 0s - loss: 0.3649 - accuracy: 0.8828\n",
            "Epoch 55: saving model to keypoint_classifier.hdf5\n",
            "11/11 [==============================] - 0s 11ms/step - loss: 0.2767 - accuracy: 0.9031 - val_loss: 0.1319 - val_accuracy: 0.9933\n",
            "Epoch 56/1000\n",
            " 1/11 [=>............................] - ETA: 0s - loss: 0.3795 - accuracy: 0.8750\n",
            "Epoch 56: saving model to keypoint_classifier.hdf5\n",
            "11/11 [==============================] - 0s 13ms/step - loss: 0.2765 - accuracy: 0.8913 - val_loss: 0.1305 - val_accuracy: 0.9933\n",
            "Epoch 57/1000\n",
            " 1/11 [=>............................] - ETA: 0s - loss: 0.1930 - accuracy: 0.9297\n",
            "Epoch 57: saving model to keypoint_classifier.hdf5\n",
            "11/11 [==============================] - 0s 12ms/step - loss: 0.2438 - accuracy: 0.9098 - val_loss: 0.1197 - val_accuracy: 0.9933\n",
            "Epoch 58/1000\n",
            " 1/11 [=>............................] - ETA: 0s - loss: 0.2490 - accuracy: 0.8906\n",
            "Epoch 58: saving model to keypoint_classifier.hdf5\n",
            "11/11 [==============================] - 0s 12ms/step - loss: 0.2420 - accuracy: 0.9098 - val_loss: 0.1169 - val_accuracy: 0.9933\n",
            "Epoch 59/1000\n",
            " 1/11 [=>............................] - ETA: 0s - loss: 0.2794 - accuracy: 0.9062\n",
            "Epoch 59: saving model to keypoint_classifier.hdf5\n",
            "11/11 [==============================] - 0s 12ms/step - loss: 0.2150 - accuracy: 0.9186 - val_loss: 0.1164 - val_accuracy: 0.9933\n",
            "Epoch 60/1000\n",
            " 1/11 [=>............................] - ETA: 0s - loss: 0.2392 - accuracy: 0.9141\n",
            "Epoch 60: saving model to keypoint_classifier.hdf5\n",
            "11/11 [==============================] - 0s 11ms/step - loss: 0.2528 - accuracy: 0.9009 - val_loss: 0.1147 - val_accuracy: 0.9933\n",
            "Epoch 61/1000\n",
            " 1/11 [=>............................] - ETA: 0s - loss: 0.2743 - accuracy: 0.8906\n",
            "Epoch 61: saving model to keypoint_classifier.hdf5\n",
            "11/11 [==============================] - 0s 11ms/step - loss: 0.2259 - accuracy: 0.9179 - val_loss: 0.1224 - val_accuracy: 0.9933\n",
            "Epoch 62/1000\n",
            " 1/11 [=>............................] - ETA: 0s - loss: 0.1952 - accuracy: 0.9141\n",
            "Epoch 62: saving model to keypoint_classifier.hdf5\n",
            "11/11 [==============================] - 0s 12ms/step - loss: 0.2205 - accuracy: 0.9186 - val_loss: 0.1160 - val_accuracy: 0.9933\n",
            "Epoch 63/1000\n",
            " 1/11 [=>............................] - ETA: 0s - loss: 0.1652 - accuracy: 0.9453\n",
            "Epoch 63: saving model to keypoint_classifier.hdf5\n",
            "11/11 [==============================] - 0s 11ms/step - loss: 0.2197 - accuracy: 0.9194 - val_loss: 0.1134 - val_accuracy: 0.9933\n",
            "Epoch 64/1000\n",
            "10/11 [==========================>...] - ETA: 0s - loss: 0.2411 - accuracy: 0.9117\n",
            "Epoch 64: saving model to keypoint_classifier.hdf5\n",
            "11/11 [==============================] - 0s 13ms/step - loss: 0.2391 - accuracy: 0.9127 - val_loss: 0.1126 - val_accuracy: 0.9933\n",
            "Epoch 65/1000\n",
            " 1/11 [=>............................] - ETA: 0s - loss: 0.2747 - accuracy: 0.9062\n",
            "Epoch 65: saving model to keypoint_classifier.hdf5\n",
            "11/11 [==============================] - 0s 12ms/step - loss: 0.2311 - accuracy: 0.9223 - val_loss: 0.1131 - val_accuracy: 0.9933\n",
            "Epoch 66/1000\n",
            " 1/11 [=>............................] - ETA: 0s - loss: 0.1735 - accuracy: 0.9375\n",
            "Epoch 66: saving model to keypoint_classifier.hdf5\n",
            "11/11 [==============================] - 0s 11ms/step - loss: 0.2140 - accuracy: 0.9260 - val_loss: 0.1190 - val_accuracy: 0.9933\n",
            "Epoch 67/1000\n",
            " 1/11 [=>............................] - ETA: 0s - loss: 0.1575 - accuracy: 0.9453\n",
            "Epoch 67: saving model to keypoint_classifier.hdf5\n",
            "11/11 [==============================] - 0s 12ms/step - loss: 0.2241 - accuracy: 0.9223 - val_loss: 0.1133 - val_accuracy: 0.9933\n",
            "Epoch 68/1000\n",
            " 1/11 [=>............................] - ETA: 0s - loss: 0.1955 - accuracy: 0.9453\n",
            "Epoch 68: saving model to keypoint_classifier.hdf5\n",
            "11/11 [==============================] - 0s 11ms/step - loss: 0.2181 - accuracy: 0.9357 - val_loss: 0.1111 - val_accuracy: 0.9933\n",
            "Epoch 69/1000\n",
            " 1/11 [=>............................] - ETA: 0s - loss: 0.2471 - accuracy: 0.8906\n",
            "Epoch 69: saving model to keypoint_classifier.hdf5\n",
            "11/11 [==============================] - 0s 11ms/step - loss: 0.2146 - accuracy: 0.9209 - val_loss: 0.1074 - val_accuracy: 0.9933\n",
            "Epoch 70/1000\n",
            " 1/11 [=>............................] - ETA: 0s - loss: 0.2170 - accuracy: 0.9453\n",
            "Epoch 70: saving model to keypoint_classifier.hdf5\n",
            "11/11 [==============================] - 0s 11ms/step - loss: 0.2157 - accuracy: 0.9253 - val_loss: 0.1065 - val_accuracy: 0.9933\n",
            "Epoch 71/1000\n",
            " 1/11 [=>............................] - ETA: 0s - loss: 0.1896 - accuracy: 0.9141\n",
            "Epoch 71: saving model to keypoint_classifier.hdf5\n",
            "11/11 [==============================] - 0s 13ms/step - loss: 0.2147 - accuracy: 0.9149 - val_loss: 0.1136 - val_accuracy: 0.9933\n",
            "Epoch 72/1000\n",
            " 1/11 [=>............................] - ETA: 0s - loss: 0.2040 - accuracy: 0.9453\n",
            "Epoch 72: saving model to keypoint_classifier.hdf5\n",
            "11/11 [==============================] - 0s 11ms/step - loss: 0.2107 - accuracy: 0.9231 - val_loss: 0.1160 - val_accuracy: 0.9933\n",
            "Epoch 73/1000\n",
            " 1/11 [=>............................] - ETA: 0s - loss: 0.1741 - accuracy: 0.9219\n",
            "Epoch 73: saving model to keypoint_classifier.hdf5\n",
            "11/11 [==============================] - 0s 12ms/step - loss: 0.2090 - accuracy: 0.9186 - val_loss: 0.1157 - val_accuracy: 0.9933\n",
            "Epoch 74/1000\n",
            " 1/11 [=>............................] - ETA: 0s - loss: 0.2163 - accuracy: 0.9219\n",
            "Epoch 74: saving model to keypoint_classifier.hdf5\n",
            "11/11 [==============================] - 0s 11ms/step - loss: 0.2218 - accuracy: 0.9275 - val_loss: 0.1186 - val_accuracy: 0.9933\n",
            "Epoch 75/1000\n",
            " 1/11 [=>............................] - ETA: 0s - loss: 0.1276 - accuracy: 0.9609\n",
            "Epoch 75: saving model to keypoint_classifier.hdf5\n",
            "11/11 [==============================] - 0s 11ms/step - loss: 0.1877 - accuracy: 0.9334 - val_loss: 0.1115 - val_accuracy: 0.9933\n",
            "Epoch 76/1000\n",
            " 1/11 [=>............................] - ETA: 0s - loss: 0.2291 - accuracy: 0.9141\n",
            "Epoch 76: saving model to keypoint_classifier.hdf5\n",
            "11/11 [==============================] - 0s 11ms/step - loss: 0.1928 - accuracy: 0.9327 - val_loss: 0.1153 - val_accuracy: 0.9933\n",
            "Epoch 77/1000\n",
            " 1/11 [=>............................] - ETA: 0s - loss: 0.1716 - accuracy: 0.9609\n",
            "Epoch 77: saving model to keypoint_classifier.hdf5\n",
            "11/11 [==============================] - 0s 11ms/step - loss: 0.1801 - accuracy: 0.9320 - val_loss: 0.1090 - val_accuracy: 0.9933\n",
            "Epoch 78/1000\n",
            " 1/11 [=>............................] - ETA: 0s - loss: 0.2444 - accuracy: 0.8984\n",
            "Epoch 78: saving model to keypoint_classifier.hdf5\n",
            "11/11 [==============================] - 0s 11ms/step - loss: 0.2262 - accuracy: 0.9164 - val_loss: 0.1113 - val_accuracy: 0.9933\n",
            "Epoch 79/1000\n",
            "11/11 [==============================] - ETA: 0s - loss: 0.1967 - accuracy: 0.9305\n",
            "Epoch 79: saving model to keypoint_classifier.hdf5\n",
            "11/11 [==============================] - 0s 14ms/step - loss: 0.1967 - accuracy: 0.9305 - val_loss: 0.1137 - val_accuracy: 0.9933\n",
            "Epoch 80/1000\n",
            " 1/11 [=>............................] - ETA: 0s - loss: 0.1612 - accuracy: 0.9531\n",
            "Epoch 80: saving model to keypoint_classifier.hdf5\n",
            "11/11 [==============================] - 0s 12ms/step - loss: 0.1794 - accuracy: 0.9423 - val_loss: 0.1156 - val_accuracy: 0.9933\n",
            "Epoch 81/1000\n",
            " 1/11 [=>............................] - ETA: 0s - loss: 0.2223 - accuracy: 0.9531\n",
            "Epoch 81: saving model to keypoint_classifier.hdf5\n",
            "11/11 [==============================] - 0s 12ms/step - loss: 0.1817 - accuracy: 0.9445 - val_loss: 0.1163 - val_accuracy: 0.9933\n",
            "Epoch 82/1000\n",
            " 1/11 [=>............................] - ETA: 0s - loss: 0.1682 - accuracy: 0.9453\n",
            "Epoch 82: saving model to keypoint_classifier.hdf5\n",
            "11/11 [==============================] - 0s 11ms/step - loss: 0.1804 - accuracy: 0.9423 - val_loss: 0.1015 - val_accuracy: 0.9933\n",
            "Epoch 83/1000\n",
            "10/11 [==========================>...] - ETA: 0s - loss: 0.2046 - accuracy: 0.9305\n",
            "Epoch 83: saving model to keypoint_classifier.hdf5\n",
            "11/11 [==============================] - 0s 13ms/step - loss: 0.1997 - accuracy: 0.9327 - val_loss: 0.1018 - val_accuracy: 0.9933\n",
            "Epoch 84/1000\n",
            " 1/11 [=>............................] - ETA: 0s - loss: 0.1419 - accuracy: 0.9609\n",
            "Epoch 84: saving model to keypoint_classifier.hdf5\n",
            "11/11 [==============================] - 0s 11ms/step - loss: 0.1690 - accuracy: 0.9497 - val_loss: 0.0988 - val_accuracy: 0.9933\n",
            "Epoch 85/1000\n",
            " 1/11 [=>............................] - ETA: 0s - loss: 0.1800 - accuracy: 0.9297\n",
            "Epoch 85: saving model to keypoint_classifier.hdf5\n",
            "11/11 [==============================] - 0s 11ms/step - loss: 0.1768 - accuracy: 0.9342 - val_loss: 0.1095 - val_accuracy: 0.9933\n",
            "Epoch 86/1000\n",
            " 1/11 [=>............................] - ETA: 0s - loss: 0.0993 - accuracy: 0.9688\n",
            "Epoch 86: saving model to keypoint_classifier.hdf5\n",
            "11/11 [==============================] - 0s 12ms/step - loss: 0.1965 - accuracy: 0.9260 - val_loss: 0.1195 - val_accuracy: 0.9933\n",
            "Epoch 87/1000\n",
            " 1/11 [=>............................] - ETA: 0s - loss: 0.2566 - accuracy: 0.9219\n",
            "Epoch 87: saving model to keypoint_classifier.hdf5\n",
            "11/11 [==============================] - 0s 12ms/step - loss: 0.1910 - accuracy: 0.9379 - val_loss: 0.1130 - val_accuracy: 0.9933\n",
            "Epoch 88/1000\n",
            " 1/11 [=>............................] - ETA: 0s - loss: 0.0901 - accuracy: 0.9688\n",
            "Epoch 88: saving model to keypoint_classifier.hdf5\n",
            "11/11 [==============================] - 0s 11ms/step - loss: 0.1493 - accuracy: 0.9497 - val_loss: 0.1005 - val_accuracy: 0.9933\n",
            "Epoch 89/1000\n",
            " 1/11 [=>............................] - ETA: 0s - loss: 0.1304 - accuracy: 0.9297\n",
            "Epoch 89: saving model to keypoint_classifier.hdf5\n",
            "11/11 [==============================] - 0s 13ms/step - loss: 0.1653 - accuracy: 0.9423 - val_loss: 0.1039 - val_accuracy: 0.9933\n",
            "Epoch 90/1000\n",
            " 1/11 [=>............................] - ETA: 0s - loss: 0.1738 - accuracy: 0.9141\n",
            "Epoch 90: saving model to keypoint_classifier.hdf5\n",
            "11/11 [==============================] - 0s 11ms/step - loss: 0.1776 - accuracy: 0.9334 - val_loss: 0.1035 - val_accuracy: 0.9933\n",
            "Epoch 91/1000\n",
            " 1/11 [=>............................] - ETA: 0s - loss: 0.2295 - accuracy: 0.9375\n",
            "Epoch 91: saving model to keypoint_classifier.hdf5\n",
            "11/11 [==============================] - 0s 11ms/step - loss: 0.1605 - accuracy: 0.9482 - val_loss: 0.0999 - val_accuracy: 0.9933\n",
            "Epoch 92/1000\n",
            " 1/11 [=>............................] - ETA: 0s - loss: 0.1639 - accuracy: 0.9219\n",
            "Epoch 92: saving model to keypoint_classifier.hdf5\n",
            "11/11 [==============================] - 0s 12ms/step - loss: 0.1808 - accuracy: 0.9320 - val_loss: 0.1065 - val_accuracy: 0.9933\n",
            "Epoch 93/1000\n",
            " 1/11 [=>............................] - ETA: 0s - loss: 0.0971 - accuracy: 0.9844\n",
            "Epoch 93: saving model to keypoint_classifier.hdf5\n",
            "11/11 [==============================] - 0s 11ms/step - loss: 0.1718 - accuracy: 0.9423 - val_loss: 0.0984 - val_accuracy: 0.9933\n",
            "Epoch 94/1000\n",
            " 1/11 [=>............................] - ETA: 0s - loss: 0.3213 - accuracy: 0.8984\n",
            "Epoch 94: saving model to keypoint_classifier.hdf5\n",
            "11/11 [==============================] - 0s 12ms/step - loss: 0.1772 - accuracy: 0.9401 - val_loss: 0.1049 - val_accuracy: 0.9933\n",
            "Epoch 95/1000\n",
            " 1/11 [=>............................] - ETA: 0s - loss: 0.1850 - accuracy: 0.9297\n",
            "Epoch 95: saving model to keypoint_classifier.hdf5\n",
            "11/11 [==============================] - 0s 11ms/step - loss: 0.1557 - accuracy: 0.9519 - val_loss: 0.0970 - val_accuracy: 0.9933\n",
            "Epoch 96/1000\n",
            " 1/11 [=>............................] - ETA: 0s - loss: 0.1423 - accuracy: 0.9375\n",
            "Epoch 96: saving model to keypoint_classifier.hdf5\n",
            "11/11 [==============================] - 0s 10ms/step - loss: 0.1588 - accuracy: 0.9453 - val_loss: 0.0958 - val_accuracy: 0.9933\n",
            "Epoch 97/1000\n",
            " 1/11 [=>............................] - ETA: 0s - loss: 0.1639 - accuracy: 0.9531\n",
            "Epoch 97: saving model to keypoint_classifier.hdf5\n",
            "11/11 [==============================] - 0s 12ms/step - loss: 0.1580 - accuracy: 0.9453 - val_loss: 0.0867 - val_accuracy: 0.9933\n",
            "Epoch 98/1000\n",
            " 1/11 [=>............................] - ETA: 0s - loss: 0.1280 - accuracy: 0.9531\n",
            "Epoch 98: saving model to keypoint_classifier.hdf5\n",
            "11/11 [==============================] - 0s 11ms/step - loss: 0.1655 - accuracy: 0.9401 - val_loss: 0.0980 - val_accuracy: 0.9933\n",
            "Epoch 99/1000\n",
            " 1/11 [=>............................] - ETA: 0s - loss: 0.1936 - accuracy: 0.9141\n",
            "Epoch 99: saving model to keypoint_classifier.hdf5\n",
            "11/11 [==============================] - 0s 10ms/step - loss: 0.1617 - accuracy: 0.9460 - val_loss: 0.1147 - val_accuracy: 0.9933\n",
            "Epoch 100/1000\n",
            "11/11 [==============================] - ETA: 0s - loss: 0.1467 - accuracy: 0.9519\n",
            "Epoch 100: saving model to keypoint_classifier.hdf5\n",
            "11/11 [==============================] - 0s 14ms/step - loss: 0.1467 - accuracy: 0.9519 - val_loss: 0.0822 - val_accuracy: 0.9933\n",
            "Epoch 101/1000\n",
            " 1/11 [=>............................] - ETA: 0s - loss: 0.0876 - accuracy: 0.9688\n",
            "Epoch 101: saving model to keypoint_classifier.hdf5\n",
            "11/11 [==============================] - 0s 12ms/step - loss: 0.1385 - accuracy: 0.9549 - val_loss: 0.0859 - val_accuracy: 0.9933\n",
            "Epoch 102/1000\n",
            " 1/11 [=>............................] - ETA: 0s - loss: 0.1202 - accuracy: 0.9688\n",
            "Epoch 102: saving model to keypoint_classifier.hdf5\n",
            "11/11 [==============================] - 0s 12ms/step - loss: 0.1602 - accuracy: 0.9482 - val_loss: 0.1099 - val_accuracy: 0.9933\n",
            "Epoch 103/1000\n",
            " 1/11 [=>............................] - ETA: 0s - loss: 0.1763 - accuracy: 0.9609\n",
            "Epoch 103: saving model to keypoint_classifier.hdf5\n",
            "11/11 [==============================] - 0s 11ms/step - loss: 0.1707 - accuracy: 0.9416 - val_loss: 0.1017 - val_accuracy: 0.9933\n",
            "Epoch 104/1000\n",
            "11/11 [==============================] - ETA: 0s - loss: 0.1363 - accuracy: 0.9593\n",
            "Epoch 104: saving model to keypoint_classifier.hdf5\n",
            "11/11 [==============================] - 0s 14ms/step - loss: 0.1363 - accuracy: 0.9593 - val_loss: 0.0982 - val_accuracy: 0.9933\n",
            "Epoch 105/1000\n",
            " 1/11 [=>............................] - ETA: 0s - loss: 0.1815 - accuracy: 0.9062\n",
            "Epoch 105: saving model to keypoint_classifier.hdf5\n",
            "11/11 [==============================] - 0s 12ms/step - loss: 0.1571 - accuracy: 0.9416 - val_loss: 0.0935 - val_accuracy: 0.9933\n",
            "Epoch 106/1000\n",
            " 1/11 [=>............................] - ETA: 0s - loss: 0.1114 - accuracy: 0.9609\n",
            "Epoch 106: saving model to keypoint_classifier.hdf5\n",
            "11/11 [==============================] - 0s 11ms/step - loss: 0.1528 - accuracy: 0.9497 - val_loss: 0.0933 - val_accuracy: 0.9933\n",
            "Epoch 107/1000\n",
            " 1/11 [=>............................] - ETA: 0s - loss: 0.1645 - accuracy: 0.9375\n",
            "Epoch 107: saving model to keypoint_classifier.hdf5\n",
            "11/11 [==============================] - 0s 12ms/step - loss: 0.1499 - accuracy: 0.9460 - val_loss: 0.1003 - val_accuracy: 0.9933\n",
            "Epoch 108/1000\n",
            " 1/11 [=>............................] - ETA: 0s - loss: 0.1540 - accuracy: 0.9531\n",
            "Epoch 108: saving model to keypoint_classifier.hdf5\n",
            "11/11 [==============================] - 0s 13ms/step - loss: 0.1400 - accuracy: 0.9519 - val_loss: 0.0917 - val_accuracy: 0.9933\n",
            "Epoch 109/1000\n",
            " 1/11 [=>............................] - ETA: 0s - loss: 0.2179 - accuracy: 0.9219\n",
            "Epoch 109: saving model to keypoint_classifier.hdf5\n",
            "11/11 [==============================] - 0s 11ms/step - loss: 0.1462 - accuracy: 0.9549 - val_loss: 0.0911 - val_accuracy: 0.9933\n",
            "Epoch 110/1000\n",
            " 1/11 [=>............................] - ETA: 0s - loss: 0.2098 - accuracy: 0.8906\n",
            "Epoch 110: saving model to keypoint_classifier.hdf5\n",
            "11/11 [==============================] - 0s 12ms/step - loss: 0.1475 - accuracy: 0.9482 - val_loss: 0.0877 - val_accuracy: 0.9933\n",
            "Epoch 111/1000\n",
            " 1/11 [=>............................] - ETA: 0s - loss: 0.0801 - accuracy: 0.9609\n",
            "Epoch 111: saving model to keypoint_classifier.hdf5\n",
            "11/11 [==============================] - 0s 12ms/step - loss: 0.1476 - accuracy: 0.9467 - val_loss: 0.1108 - val_accuracy: 0.9933\n",
            "Epoch 112/1000\n",
            " 1/11 [=>............................] - ETA: 0s - loss: 0.1804 - accuracy: 0.9375\n",
            "Epoch 112: saving model to keypoint_classifier.hdf5\n",
            "11/11 [==============================] - 0s 11ms/step - loss: 0.1531 - accuracy: 0.9438 - val_loss: 0.0957 - val_accuracy: 0.9933\n",
            "Epoch 113/1000\n",
            " 1/11 [=>............................] - ETA: 0s - loss: 0.1360 - accuracy: 0.9609\n",
            "Epoch 113: saving model to keypoint_classifier.hdf5\n",
            "11/11 [==============================] - 0s 11ms/step - loss: 0.1484 - accuracy: 0.9475 - val_loss: 0.0813 - val_accuracy: 0.9933\n",
            "Epoch 114/1000\n",
            " 1/11 [=>............................] - ETA: 0s - loss: 0.2011 - accuracy: 0.9297\n",
            "Epoch 114: saving model to keypoint_classifier.hdf5\n",
            "11/11 [==============================] - 0s 12ms/step - loss: 0.1684 - accuracy: 0.9453 - val_loss: 0.0858 - val_accuracy: 0.9933\n",
            "Epoch 115/1000\n",
            "11/11 [==============================] - ETA: 0s - loss: 0.1519 - accuracy: 0.9453\n",
            "Epoch 115: saving model to keypoint_classifier.hdf5\n",
            "11/11 [==============================] - 0s 14ms/step - loss: 0.1519 - accuracy: 0.9453 - val_loss: 0.0819 - val_accuracy: 0.9933\n",
            "Epoch 116/1000\n",
            " 1/11 [=>............................] - ETA: 0s - loss: 0.1778 - accuracy: 0.9219\n",
            "Epoch 116: saving model to keypoint_classifier.hdf5\n",
            "11/11 [==============================] - 0s 11ms/step - loss: 0.1497 - accuracy: 0.9504 - val_loss: 0.0877 - val_accuracy: 0.9933\n",
            "Epoch 117/1000\n",
            " 1/11 [=>............................] - ETA: 0s - loss: 0.1322 - accuracy: 0.9375\n",
            "Epoch 117: saving model to keypoint_classifier.hdf5\n",
            "11/11 [==============================] - 0s 12ms/step - loss: 0.1434 - accuracy: 0.9512 - val_loss: 0.0939 - val_accuracy: 0.9933\n",
            "Epoch 118/1000\n",
            " 1/11 [=>............................] - ETA: 0s - loss: 0.1624 - accuracy: 0.9453\n",
            "Epoch 118: saving model to keypoint_classifier.hdf5\n",
            "11/11 [==============================] - 0s 11ms/step - loss: 0.1582 - accuracy: 0.9497 - val_loss: 0.0989 - val_accuracy: 0.9933\n",
            "Epoch 119/1000\n",
            " 1/11 [=>............................] - ETA: 0s - loss: 0.1269 - accuracy: 0.9453\n",
            "Epoch 119: saving model to keypoint_classifier.hdf5\n",
            "11/11 [==============================] - 0s 11ms/step - loss: 0.1448 - accuracy: 0.9497 - val_loss: 0.0873 - val_accuracy: 0.9933\n",
            "Epoch 120/1000\n",
            " 1/11 [=>............................] - ETA: 0s - loss: 0.1398 - accuracy: 0.9531\n",
            "Epoch 120: saving model to keypoint_classifier.hdf5\n",
            "11/11 [==============================] - 0s 12ms/step - loss: 0.1322 - accuracy: 0.9593 - val_loss: 0.0876 - val_accuracy: 0.9933\n",
            "Epoch 121/1000\n",
            " 1/11 [=>............................] - ETA: 0s - loss: 0.1114 - accuracy: 0.9453\n",
            "Epoch 121: saving model to keypoint_classifier.hdf5\n",
            "11/11 [==============================] - 0s 11ms/step - loss: 0.1343 - accuracy: 0.9541 - val_loss: 0.0960 - val_accuracy: 0.9933\n",
            "Epoch 122/1000\n",
            " 1/11 [=>............................] - ETA: 0s - loss: 0.2206 - accuracy: 0.9219\n",
            "Epoch 122: saving model to keypoint_classifier.hdf5\n",
            "11/11 [==============================] - 0s 12ms/step - loss: 0.1380 - accuracy: 0.9519 - val_loss: 0.0797 - val_accuracy: 0.9933\n",
            "Epoch 123/1000\n",
            " 1/11 [=>............................] - ETA: 0s - loss: 0.1099 - accuracy: 0.9688\n",
            "Epoch 123: saving model to keypoint_classifier.hdf5\n",
            "11/11 [==============================] - 0s 12ms/step - loss: 0.1283 - accuracy: 0.9549 - val_loss: 0.0768 - val_accuracy: 0.9933\n",
            "Epoch 124/1000\n",
            "11/11 [==============================] - ETA: 0s - loss: 0.1437 - accuracy: 0.9541\n",
            "Epoch 124: saving model to keypoint_classifier.hdf5\n",
            "11/11 [==============================] - 0s 13ms/step - loss: 0.1437 - accuracy: 0.9541 - val_loss: 0.0913 - val_accuracy: 0.9933\n",
            "Epoch 125/1000\n",
            " 1/11 [=>............................] - ETA: 0s - loss: 0.1624 - accuracy: 0.9688\n",
            "Epoch 125: saving model to keypoint_classifier.hdf5\n",
            "11/11 [==============================] - 0s 11ms/step - loss: 0.1292 - accuracy: 0.9615 - val_loss: 0.0927 - val_accuracy: 0.9933\n",
            "Epoch 126/1000\n",
            " 1/11 [=>............................] - ETA: 0s - loss: 0.0866 - accuracy: 0.9688\n",
            "Epoch 126: saving model to keypoint_classifier.hdf5\n",
            "11/11 [==============================] - 0s 11ms/step - loss: 0.1125 - accuracy: 0.9630 - val_loss: 0.0792 - val_accuracy: 0.9933\n",
            "Epoch 127/1000\n",
            " 1/11 [=>............................] - ETA: 0s - loss: 0.1267 - accuracy: 0.9688\n",
            "Epoch 127: saving model to keypoint_classifier.hdf5\n",
            "11/11 [==============================] - 0s 11ms/step - loss: 0.1327 - accuracy: 0.9608 - val_loss: 0.0788 - val_accuracy: 0.9933\n",
            "Epoch 128/1000\n",
            " 1/11 [=>............................] - ETA: 0s - loss: 0.1733 - accuracy: 0.9219\n",
            "Epoch 128: saving model to keypoint_classifier.hdf5\n",
            "11/11 [==============================] - 0s 10ms/step - loss: 0.1365 - accuracy: 0.9527 - val_loss: 0.0844 - val_accuracy: 0.9933\n",
            "Epoch 129/1000\n",
            " 1/11 [=>............................] - ETA: 0s - loss: 0.1476 - accuracy: 0.9375\n",
            "Epoch 129: saving model to keypoint_classifier.hdf5\n",
            "11/11 [==============================] - 0s 11ms/step - loss: 0.1383 - accuracy: 0.9504 - val_loss: 0.0841 - val_accuracy: 0.9933\n",
            "Epoch 130/1000\n",
            "11/11 [==============================] - ETA: 0s - loss: 0.1153 - accuracy: 0.9712\n",
            "Epoch 130: saving model to keypoint_classifier.hdf5\n",
            "11/11 [==============================] - 0s 14ms/step - loss: 0.1153 - accuracy: 0.9712 - val_loss: 0.0759 - val_accuracy: 0.9933\n",
            "Epoch 131/1000\n",
            "11/11 [==============================] - ETA: 0s - loss: 0.1267 - accuracy: 0.9586\n",
            "Epoch 131: saving model to keypoint_classifier.hdf5\n",
            "11/11 [==============================] - 0s 12ms/step - loss: 0.1267 - accuracy: 0.9586 - val_loss: 0.0799 - val_accuracy: 0.9933\n",
            "Epoch 132/1000\n",
            " 1/11 [=>............................] - ETA: 0s - loss: 0.0994 - accuracy: 0.9688\n",
            "Epoch 132: saving model to keypoint_classifier.hdf5\n",
            "11/11 [==============================] - 0s 11ms/step - loss: 0.1167 - accuracy: 0.9682 - val_loss: 0.0869 - val_accuracy: 0.9933\n",
            "Epoch 133/1000\n",
            " 1/11 [=>............................] - ETA: 0s - loss: 0.1431 - accuracy: 0.9609\n",
            "Epoch 133: saving model to keypoint_classifier.hdf5\n",
            "11/11 [==============================] - 0s 10ms/step - loss: 0.1289 - accuracy: 0.9519 - val_loss: 0.0801 - val_accuracy: 0.9933\n",
            "Epoch 134/1000\n",
            " 1/11 [=>............................] - ETA: 0s - loss: 0.1688 - accuracy: 0.9453\n",
            "Epoch 134: saving model to keypoint_classifier.hdf5\n",
            "11/11 [==============================] - 0s 13ms/step - loss: 0.1289 - accuracy: 0.9608 - val_loss: 0.0799 - val_accuracy: 0.9933\n",
            "Epoch 135/1000\n",
            " 1/11 [=>............................] - ETA: 0s - loss: 0.2479 - accuracy: 0.9375\n",
            "Epoch 135: saving model to keypoint_classifier.hdf5\n",
            "11/11 [==============================] - 0s 12ms/step - loss: 0.1206 - accuracy: 0.9623 - val_loss: 0.0796 - val_accuracy: 0.9933\n",
            "Epoch 136/1000\n",
            " 1/11 [=>............................] - ETA: 0s - loss: 0.1336 - accuracy: 0.9453\n",
            "Epoch 136: saving model to keypoint_classifier.hdf5\n",
            "11/11 [==============================] - 0s 11ms/step - loss: 0.1324 - accuracy: 0.9623 - val_loss: 0.0863 - val_accuracy: 0.9933\n",
            "Epoch 137/1000\n",
            " 1/11 [=>............................] - ETA: 0s - loss: 0.1796 - accuracy: 0.9453\n",
            "Epoch 137: saving model to keypoint_classifier.hdf5\n",
            "11/11 [==============================] - 0s 12ms/step - loss: 0.1213 - accuracy: 0.9638 - val_loss: 0.0801 - val_accuracy: 0.9933\n",
            "Epoch 138/1000\n",
            "11/11 [==============================] - ETA: 0s - loss: 0.1397 - accuracy: 0.9504\n",
            "Epoch 138: saving model to keypoint_classifier.hdf5\n",
            "11/11 [==============================] - 0s 14ms/step - loss: 0.1397 - accuracy: 0.9504 - val_loss: 0.0760 - val_accuracy: 0.9933\n",
            "Epoch 139/1000\n",
            " 1/11 [=>............................] - ETA: 0s - loss: 0.0589 - accuracy: 0.9844\n",
            "Epoch 139: saving model to keypoint_classifier.hdf5\n",
            "11/11 [==============================] - 0s 11ms/step - loss: 0.1186 - accuracy: 0.9638 - val_loss: 0.0901 - val_accuracy: 0.9933\n",
            "Epoch 140/1000\n",
            "11/11 [==============================] - ETA: 0s - loss: 0.1301 - accuracy: 0.9593\n",
            "Epoch 140: saving model to keypoint_classifier.hdf5\n",
            "11/11 [==============================] - 0s 12ms/step - loss: 0.1301 - accuracy: 0.9593 - val_loss: 0.0814 - val_accuracy: 0.9933\n",
            "Epoch 141/1000\n",
            " 1/11 [=>............................] - ETA: 0s - loss: 0.0642 - accuracy: 0.9922\n",
            "Epoch 141: saving model to keypoint_classifier.hdf5\n",
            "11/11 [==============================] - 0s 14ms/step - loss: 0.1217 - accuracy: 0.9645 - val_loss: 0.0834 - val_accuracy: 0.9933\n",
            "Epoch 142/1000\n",
            " 1/11 [=>............................] - ETA: 0s - loss: 0.1043 - accuracy: 0.9844\n",
            "Epoch 142: saving model to keypoint_classifier.hdf5\n",
            "11/11 [==============================] - 0s 11ms/step - loss: 0.1187 - accuracy: 0.9689 - val_loss: 0.0764 - val_accuracy: 0.9933\n",
            "Epoch 143/1000\n",
            " 1/11 [=>............................] - ETA: 0s - loss: 0.1456 - accuracy: 0.9375\n",
            "Epoch 143: saving model to keypoint_classifier.hdf5\n",
            "11/11 [==============================] - 0s 12ms/step - loss: 0.1230 - accuracy: 0.9623 - val_loss: 0.0800 - val_accuracy: 0.9933\n",
            "Epoch 144/1000\n",
            " 1/11 [=>............................] - ETA: 0s - loss: 0.1113 - accuracy: 0.9688\n",
            "Epoch 144: saving model to keypoint_classifier.hdf5\n",
            "11/11 [==============================] - 0s 11ms/step - loss: 0.1204 - accuracy: 0.9608 - val_loss: 0.0847 - val_accuracy: 0.9933\n",
            "Epoch 145/1000\n",
            "11/11 [==============================] - ETA: 0s - loss: 0.1453 - accuracy: 0.9586\n",
            "Epoch 145: saving model to keypoint_classifier.hdf5\n",
            "11/11 [==============================] - 0s 25ms/step - loss: 0.1453 - accuracy: 0.9586 - val_loss: 0.0853 - val_accuracy: 0.9933\n",
            "Epoch 146/1000\n",
            " 7/11 [==================>...........] - ETA: 0s - loss: 0.1352 - accuracy: 0.9587\n",
            "Epoch 146: saving model to keypoint_classifier.hdf5\n",
            "11/11 [==============================] - 0s 23ms/step - loss: 0.1278 - accuracy: 0.9623 - val_loss: 0.0825 - val_accuracy: 0.9933\n",
            "Epoch 147/1000\n",
            " 9/11 [=======================>......] - ETA: 0s - loss: 0.1155 - accuracy: 0.9644\n",
            "Epoch 147: saving model to keypoint_classifier.hdf5\n",
            "11/11 [==============================] - 0s 22ms/step - loss: 0.1190 - accuracy: 0.9623 - val_loss: 0.0808 - val_accuracy: 0.9933\n",
            "Epoch 148/1000\n",
            " 6/11 [===============>..............] - ETA: 0s - loss: 0.1396 - accuracy: 0.9570\n",
            "Epoch 148: saving model to keypoint_classifier.hdf5\n",
            "11/11 [==============================] - 0s 32ms/step - loss: 0.1293 - accuracy: 0.9564 - val_loss: 0.0724 - val_accuracy: 0.9933\n",
            "Epoch 149/1000\n",
            " 9/11 [=======================>......] - ETA: 0s - loss: 0.1246 - accuracy: 0.9627\n",
            "Epoch 149: saving model to keypoint_classifier.hdf5\n",
            "11/11 [==============================] - 0s 31ms/step - loss: 0.1192 - accuracy: 0.9645 - val_loss: 0.0813 - val_accuracy: 0.9933\n",
            "Epoch 150/1000\n",
            " 8/11 [====================>.........] - ETA: 0s - loss: 0.1271 - accuracy: 0.9639\n",
            "Epoch 150: saving model to keypoint_classifier.hdf5\n",
            "11/11 [==============================] - 0s 29ms/step - loss: 0.1234 - accuracy: 0.9630 - val_loss: 0.0800 - val_accuracy: 0.9933\n",
            "Epoch 151/1000\n",
            "11/11 [==============================] - ETA: 0s - loss: 0.1251 - accuracy: 0.9593\n",
            "Epoch 151: saving model to keypoint_classifier.hdf5\n",
            "11/11 [==============================] - 0s 27ms/step - loss: 0.1251 - accuracy: 0.9593 - val_loss: 0.0856 - val_accuracy: 0.9933\n",
            "Epoch 152/1000\n",
            " 8/11 [====================>.........] - ETA: 0s - loss: 0.1253 - accuracy: 0.9668\n",
            "Epoch 152: saving model to keypoint_classifier.hdf5\n",
            "11/11 [==============================] - 0s 28ms/step - loss: 0.1126 - accuracy: 0.9697 - val_loss: 0.0831 - val_accuracy: 0.9933\n",
            "Epoch 153/1000\n",
            "11/11 [==============================] - ETA: 0s - loss: 0.1388 - accuracy: 0.9571\n",
            "Epoch 153: saving model to keypoint_classifier.hdf5\n",
            "11/11 [==============================] - 0s 34ms/step - loss: 0.1388 - accuracy: 0.9571 - val_loss: 0.0689 - val_accuracy: 0.9933\n",
            "Epoch 154/1000\n",
            " 1/11 [=>............................] - ETA: 0s - loss: 0.0825 - accuracy: 0.9531\n",
            "Epoch 154: saving model to keypoint_classifier.hdf5\n",
            "11/11 [==============================] - 0s 11ms/step - loss: 0.1310 - accuracy: 0.9564 - val_loss: 0.0747 - val_accuracy: 0.9933\n",
            "Epoch 155/1000\n",
            " 1/11 [=>............................] - ETA: 0s - loss: 0.1207 - accuracy: 0.9531\n",
            "Epoch 155: saving model to keypoint_classifier.hdf5\n",
            "11/11 [==============================] - 0s 13ms/step - loss: 0.1168 - accuracy: 0.9593 - val_loss: 0.0794 - val_accuracy: 0.9933\n",
            "Epoch 156/1000\n",
            " 1/11 [=>............................] - ETA: 0s - loss: 0.0931 - accuracy: 0.9609\n",
            "Epoch 156: saving model to keypoint_classifier.hdf5\n",
            "11/11 [==============================] - 0s 13ms/step - loss: 0.1106 - accuracy: 0.9667 - val_loss: 0.0663 - val_accuracy: 0.9933\n",
            "Epoch 157/1000\n",
            "11/11 [==============================] - ETA: 0s - loss: 0.1247 - accuracy: 0.9564\n",
            "Epoch 157: saving model to keypoint_classifier.hdf5\n",
            "11/11 [==============================] - 0s 14ms/step - loss: 0.1247 - accuracy: 0.9564 - val_loss: 0.0677 - val_accuracy: 0.9933\n",
            "Epoch 158/1000\n",
            " 1/11 [=>............................] - ETA: 0s - loss: 0.1241 - accuracy: 0.9609\n",
            "Epoch 158: saving model to keypoint_classifier.hdf5\n",
            "11/11 [==============================] - 0s 12ms/step - loss: 0.1153 - accuracy: 0.9667 - val_loss: 0.0677 - val_accuracy: 0.9933\n",
            "Epoch 159/1000\n",
            " 1/11 [=>............................] - ETA: 0s - loss: 0.1015 - accuracy: 0.9766\n",
            "Epoch 159: saving model to keypoint_classifier.hdf5\n",
            "11/11 [==============================] - 0s 12ms/step - loss: 0.1156 - accuracy: 0.9675 - val_loss: 0.0768 - val_accuracy: 0.9933\n",
            "Epoch 160/1000\n",
            " 1/11 [=>............................] - ETA: 0s - loss: 0.0965 - accuracy: 0.9688\n",
            "Epoch 160: saving model to keypoint_classifier.hdf5\n",
            "11/11 [==============================] - 0s 11ms/step - loss: 0.1152 - accuracy: 0.9615 - val_loss: 0.0712 - val_accuracy: 0.9933\n",
            "Epoch 161/1000\n",
            " 1/11 [=>............................] - ETA: 0s - loss: 0.1044 - accuracy: 0.9609\n",
            "Epoch 161: saving model to keypoint_classifier.hdf5\n",
            "11/11 [==============================] - 0s 12ms/step - loss: 0.1130 - accuracy: 0.9608 - val_loss: 0.0742 - val_accuracy: 0.9933\n",
            "Epoch 162/1000\n",
            "11/11 [==============================] - ETA: 0s - loss: 0.1337 - accuracy: 0.9571\n",
            "Epoch 162: saving model to keypoint_classifier.hdf5\n",
            "11/11 [==============================] - 0s 14ms/step - loss: 0.1337 - accuracy: 0.9571 - val_loss: 0.0796 - val_accuracy: 0.9933\n",
            "Epoch 163/1000\n",
            " 1/11 [=>............................] - ETA: 0s - loss: 0.1662 - accuracy: 0.9766\n",
            "Epoch 163: saving model to keypoint_classifier.hdf5\n",
            "11/11 [==============================] - 0s 12ms/step - loss: 0.1131 - accuracy: 0.9682 - val_loss: 0.0775 - val_accuracy: 0.9933\n",
            "Epoch 164/1000\n",
            " 1/11 [=>............................] - ETA: 0s - loss: 0.1020 - accuracy: 0.9766\n",
            "Epoch 164: saving model to keypoint_classifier.hdf5\n",
            "11/11 [==============================] - 0s 13ms/step - loss: 0.1148 - accuracy: 0.9667 - val_loss: 0.0782 - val_accuracy: 0.9933\n",
            "Epoch 165/1000\n",
            " 1/11 [=>............................] - ETA: 0s - loss: 0.1001 - accuracy: 0.9609\n",
            "Epoch 165: saving model to keypoint_classifier.hdf5\n",
            "11/11 [==============================] - 0s 11ms/step - loss: 0.1299 - accuracy: 0.9571 - val_loss: 0.0756 - val_accuracy: 0.9933\n",
            "Epoch 166/1000\n",
            " 1/11 [=>............................] - ETA: 0s - loss: 0.0748 - accuracy: 0.9844\n",
            "Epoch 166: saving model to keypoint_classifier.hdf5\n",
            "11/11 [==============================] - 0s 13ms/step - loss: 0.1104 - accuracy: 0.9697 - val_loss: 0.0769 - val_accuracy: 0.9933\n",
            "Epoch 167/1000\n",
            " 1/11 [=>............................] - ETA: 0s - loss: 0.0887 - accuracy: 0.9688\n",
            "Epoch 167: saving model to keypoint_classifier.hdf5\n",
            "11/11 [==============================] - 0s 11ms/step - loss: 0.1004 - accuracy: 0.9734 - val_loss: 0.0685 - val_accuracy: 0.9933\n",
            "Epoch 168/1000\n",
            "11/11 [==============================] - ETA: 0s - loss: 0.1208 - accuracy: 0.9630\n",
            "Epoch 168: saving model to keypoint_classifier.hdf5\n",
            "11/11 [==============================] - 0s 13ms/step - loss: 0.1208 - accuracy: 0.9630 - val_loss: 0.0754 - val_accuracy: 0.9933\n",
            "Epoch 169/1000\n",
            " 1/11 [=>............................] - ETA: 0s - loss: 0.0490 - accuracy: 0.9922\n",
            "Epoch 169: saving model to keypoint_classifier.hdf5\n",
            "11/11 [==============================] - 0s 11ms/step - loss: 0.1077 - accuracy: 0.9682 - val_loss: 0.0681 - val_accuracy: 0.9933\n",
            "Epoch 170/1000\n",
            " 1/11 [=>............................] - ETA: 0s - loss: 0.1865 - accuracy: 0.9375\n",
            "Epoch 170: saving model to keypoint_classifier.hdf5\n",
            "11/11 [==============================] - 0s 11ms/step - loss: 0.1179 - accuracy: 0.9652 - val_loss: 0.0662 - val_accuracy: 0.9933\n",
            "Epoch 171/1000\n",
            " 1/11 [=>............................] - ETA: 0s - loss: 0.0554 - accuracy: 0.9844\n",
            "Epoch 171: saving model to keypoint_classifier.hdf5\n",
            "11/11 [==============================] - 0s 13ms/step - loss: 0.1016 - accuracy: 0.9704 - val_loss: 0.0650 - val_accuracy: 0.9933\n",
            "Epoch 172/1000\n",
            "11/11 [==============================] - ETA: 0s - loss: 0.1127 - accuracy: 0.9630\n",
            "Epoch 172: saving model to keypoint_classifier.hdf5\n",
            "11/11 [==============================] - 0s 14ms/step - loss: 0.1127 - accuracy: 0.9630 - val_loss: 0.0721 - val_accuracy: 0.9933\n",
            "Epoch 173/1000\n",
            " 1/11 [=>............................] - ETA: 0s - loss: 0.0651 - accuracy: 0.9844\n",
            "Epoch 173: saving model to keypoint_classifier.hdf5\n",
            "11/11 [==============================] - 0s 11ms/step - loss: 0.1111 - accuracy: 0.9734 - val_loss: 0.0690 - val_accuracy: 0.9933\n",
            "Epoch 174/1000\n",
            " 1/11 [=>............................] - ETA: 0s - loss: 0.1066 - accuracy: 0.9531\n",
            "Epoch 174: saving model to keypoint_classifier.hdf5\n",
            "11/11 [==============================] - 0s 11ms/step - loss: 0.1084 - accuracy: 0.9712 - val_loss: 0.0792 - val_accuracy: 0.9933\n",
            "Epoch 175/1000\n",
            " 1/11 [=>............................] - ETA: 0s - loss: 0.0918 - accuracy: 0.9844\n",
            "Epoch 175: saving model to keypoint_classifier.hdf5\n",
            "11/11 [==============================] - 0s 11ms/step - loss: 0.0983 - accuracy: 0.9689 - val_loss: 0.0680 - val_accuracy: 0.9933\n",
            "Epoch 176/1000\n",
            "11/11 [==============================] - ETA: 0s - loss: 0.1068 - accuracy: 0.9667\n",
            "Epoch 176: saving model to keypoint_classifier.hdf5\n",
            "11/11 [==============================] - 0s 13ms/step - loss: 0.1068 - accuracy: 0.9667 - val_loss: 0.0663 - val_accuracy: 0.9933\n",
            "Epoch 177/1000\n",
            " 1/11 [=>............................] - ETA: 0s - loss: 0.0734 - accuracy: 0.9844\n",
            "Epoch 177: saving model to keypoint_classifier.hdf5\n",
            "11/11 [==============================] - 0s 12ms/step - loss: 0.0937 - accuracy: 0.9712 - val_loss: 0.0660 - val_accuracy: 0.9933\n",
            "Epoch 178/1000\n",
            " 1/11 [=>............................] - ETA: 0s - loss: 0.0683 - accuracy: 0.9844\n",
            "Epoch 178: saving model to keypoint_classifier.hdf5\n",
            "11/11 [==============================] - 0s 12ms/step - loss: 0.1024 - accuracy: 0.9682 - val_loss: 0.0725 - val_accuracy: 0.9933\n",
            "Epoch 179/1000\n",
            "11/11 [==============================] - ETA: 0s - loss: 0.1155 - accuracy: 0.9675\n",
            "Epoch 179: saving model to keypoint_classifier.hdf5\n",
            "11/11 [==============================] - 0s 13ms/step - loss: 0.1155 - accuracy: 0.9675 - val_loss: 0.0693 - val_accuracy: 0.9933\n",
            "Epoch 180/1000\n",
            " 1/11 [=>............................] - ETA: 0s - loss: 0.0711 - accuracy: 0.9844\n",
            "Epoch 180: saving model to keypoint_classifier.hdf5\n",
            "11/11 [==============================] - 0s 12ms/step - loss: 0.0985 - accuracy: 0.9778 - val_loss: 0.0650 - val_accuracy: 0.9933\n",
            "Epoch 181/1000\n",
            " 1/11 [=>............................] - ETA: 0s - loss: 0.1095 - accuracy: 0.9688\n",
            "Epoch 181: saving model to keypoint_classifier.hdf5\n",
            "11/11 [==============================] - 0s 11ms/step - loss: 0.0997 - accuracy: 0.9712 - val_loss: 0.0731 - val_accuracy: 0.9933\n",
            "Epoch 182/1000\n",
            "11/11 [==============================] - ETA: 0s - loss: 0.1116 - accuracy: 0.9638\n",
            "Epoch 182: saving model to keypoint_classifier.hdf5\n",
            "11/11 [==============================] - 0s 14ms/step - loss: 0.1116 - accuracy: 0.9638 - val_loss: 0.0685 - val_accuracy: 0.9933\n",
            "Epoch 183/1000\n",
            " 1/11 [=>............................] - ETA: 0s - loss: 0.0823 - accuracy: 0.9844\n",
            "Epoch 183: saving model to keypoint_classifier.hdf5\n",
            "11/11 [==============================] - 0s 12ms/step - loss: 0.1037 - accuracy: 0.9667 - val_loss: 0.0639 - val_accuracy: 0.9933\n",
            "Epoch 184/1000\n",
            "11/11 [==============================] - ETA: 0s - loss: 0.0920 - accuracy: 0.9682\n",
            "Epoch 184: saving model to keypoint_classifier.hdf5\n",
            "11/11 [==============================] - 0s 13ms/step - loss: 0.0920 - accuracy: 0.9682 - val_loss: 0.0748 - val_accuracy: 0.9933\n",
            "Epoch 185/1000\n",
            " 1/11 [=>............................] - ETA: 0s - loss: 0.0703 - accuracy: 0.9766\n",
            "Epoch 185: saving model to keypoint_classifier.hdf5\n",
            "11/11 [==============================] - 0s 12ms/step - loss: 0.1092 - accuracy: 0.9675 - val_loss: 0.0694 - val_accuracy: 0.9933\n",
            "Epoch 186/1000\n",
            " 1/11 [=>............................] - ETA: 0s - loss: 0.1053 - accuracy: 0.9609\n",
            "Epoch 186: saving model to keypoint_classifier.hdf5\n",
            "11/11 [==============================] - 0s 12ms/step - loss: 0.1135 - accuracy: 0.9689 - val_loss: 0.0633 - val_accuracy: 0.9933\n",
            "Epoch 187/1000\n",
            "11/11 [==============================] - ETA: 0s - loss: 0.1291 - accuracy: 0.9608\n",
            "Epoch 187: saving model to keypoint_classifier.hdf5\n",
            "11/11 [==============================] - 0s 13ms/step - loss: 0.1291 - accuracy: 0.9608 - val_loss: 0.0708 - val_accuracy: 0.9933\n",
            "Epoch 188/1000\n",
            " 1/11 [=>............................] - ETA: 0s - loss: 0.0623 - accuracy: 0.9844\n",
            "Epoch 188: saving model to keypoint_classifier.hdf5\n",
            "11/11 [==============================] - 0s 12ms/step - loss: 0.1003 - accuracy: 0.9704 - val_loss: 0.0644 - val_accuracy: 0.9933\n",
            "Epoch 189/1000\n",
            " 1/11 [=>............................] - ETA: 0s - loss: 0.1118 - accuracy: 0.9766\n",
            "Epoch 189: saving model to keypoint_classifier.hdf5\n",
            "11/11 [==============================] - 0s 12ms/step - loss: 0.1034 - accuracy: 0.9734 - val_loss: 0.0600 - val_accuracy: 0.9933\n",
            "Epoch 190/1000\n",
            " 1/11 [=>............................] - ETA: 0s - loss: 0.0663 - accuracy: 0.9844\n",
            "Epoch 190: saving model to keypoint_classifier.hdf5\n",
            "11/11 [==============================] - 0s 13ms/step - loss: 0.0988 - accuracy: 0.9726 - val_loss: 0.0700 - val_accuracy: 0.9933\n",
            "Epoch 191/1000\n",
            " 1/11 [=>............................] - ETA: 0s - loss: 0.1054 - accuracy: 0.9766\n",
            "Epoch 191: saving model to keypoint_classifier.hdf5\n",
            "11/11 [==============================] - 0s 12ms/step - loss: 0.0987 - accuracy: 0.9682 - val_loss: 0.0632 - val_accuracy: 0.9933\n",
            "Epoch 192/1000\n",
            " 1/11 [=>............................] - ETA: 0s - loss: 0.1489 - accuracy: 0.9609\n",
            "Epoch 192: saving model to keypoint_classifier.hdf5\n",
            "11/11 [==============================] - 0s 11ms/step - loss: 0.0809 - accuracy: 0.9800 - val_loss: 0.0639 - val_accuracy: 0.9933\n",
            "Epoch 193/1000\n",
            " 9/11 [=======================>......] - ETA: 0s - loss: 0.1310 - accuracy: 0.9601\n",
            "Epoch 193: saving model to keypoint_classifier.hdf5\n",
            "11/11 [==============================] - 0s 13ms/step - loss: 0.1182 - accuracy: 0.9645 - val_loss: 0.0670 - val_accuracy: 0.9933\n",
            "Epoch 194/1000\n",
            " 1/11 [=>............................] - ETA: 0s - loss: 0.0620 - accuracy: 0.9766\n",
            "Epoch 194: saving model to keypoint_classifier.hdf5\n",
            "11/11 [==============================] - 0s 13ms/step - loss: 0.1045 - accuracy: 0.9689 - val_loss: 0.0700 - val_accuracy: 0.9933\n",
            "Epoch 195/1000\n",
            "11/11 [==============================] - ETA: 0s - loss: 0.1046 - accuracy: 0.9741\n",
            "Epoch 195: saving model to keypoint_classifier.hdf5\n",
            "11/11 [==============================] - 0s 13ms/step - loss: 0.1046 - accuracy: 0.9741 - val_loss: 0.0637 - val_accuracy: 0.9933\n",
            "Epoch 196/1000\n",
            "11/11 [==============================] - ETA: 0s - loss: 0.1008 - accuracy: 0.9778\n",
            "Epoch 196: saving model to keypoint_classifier.hdf5\n",
            "11/11 [==============================] - 0s 13ms/step - loss: 0.1008 - accuracy: 0.9778 - val_loss: 0.0635 - val_accuracy: 0.9933\n",
            "Epoch 197/1000\n",
            " 1/11 [=>............................] - ETA: 0s - loss: 0.0750 - accuracy: 0.9844\n",
            "Epoch 197: saving model to keypoint_classifier.hdf5\n",
            "11/11 [==============================] - 0s 13ms/step - loss: 0.1024 - accuracy: 0.9719 - val_loss: 0.0668 - val_accuracy: 0.9933\n",
            "Epoch 198/1000\n",
            "11/11 [==============================] - ETA: 0s - loss: 0.0952 - accuracy: 0.9771\n",
            "Epoch 198: saving model to keypoint_classifier.hdf5\n",
            "11/11 [==============================] - 0s 14ms/step - loss: 0.0952 - accuracy: 0.9771 - val_loss: 0.0555 - val_accuracy: 0.9933\n",
            "Epoch 199/1000\n",
            " 1/11 [=>............................] - ETA: 0s - loss: 0.0855 - accuracy: 0.9766\n",
            "Epoch 199: saving model to keypoint_classifier.hdf5\n",
            "11/11 [==============================] - 0s 12ms/step - loss: 0.1010 - accuracy: 0.9719 - val_loss: 0.0578 - val_accuracy: 0.9933\n",
            "Epoch 200/1000\n",
            " 9/11 [=======================>......] - ETA: 0s - loss: 0.1194 - accuracy: 0.9601\n",
            "Epoch 200: saving model to keypoint_classifier.hdf5\n",
            "11/11 [==============================] - 0s 14ms/step - loss: 0.1149 - accuracy: 0.9623 - val_loss: 0.0645 - val_accuracy: 0.9933\n",
            "Epoch 201/1000\n",
            " 1/11 [=>............................] - ETA: 0s - loss: 0.0937 - accuracy: 0.9609\n",
            "Epoch 201: saving model to keypoint_classifier.hdf5\n",
            "11/11 [==============================] - 0s 11ms/step - loss: 0.0975 - accuracy: 0.9726 - val_loss: 0.0675 - val_accuracy: 0.9933\n",
            "Epoch 202/1000\n",
            " 1/11 [=>............................] - ETA: 0s - loss: 0.1004 - accuracy: 0.9453\n",
            "Epoch 202: saving model to keypoint_classifier.hdf5\n",
            "11/11 [==============================] - 0s 12ms/step - loss: 0.1124 - accuracy: 0.9697 - val_loss: 0.0630 - val_accuracy: 0.9933\n",
            "Epoch 203/1000\n",
            " 1/11 [=>............................] - ETA: 0s - loss: 0.0716 - accuracy: 0.9766\n",
            "Epoch 203: saving model to keypoint_classifier.hdf5\n",
            "11/11 [==============================] - 0s 12ms/step - loss: 0.0891 - accuracy: 0.9763 - val_loss: 0.0598 - val_accuracy: 0.9933\n",
            "Epoch 204/1000\n",
            "11/11 [==============================] - ETA: 0s - loss: 0.0938 - accuracy: 0.9734\n",
            "Epoch 204: saving model to keypoint_classifier.hdf5\n",
            "11/11 [==============================] - 0s 15ms/step - loss: 0.0938 - accuracy: 0.9734 - val_loss: 0.0569 - val_accuracy: 0.9933\n",
            "Epoch 205/1000\n",
            " 1/11 [=>............................] - ETA: 0s - loss: 0.1162 - accuracy: 0.9766\n",
            "Epoch 205: saving model to keypoint_classifier.hdf5\n",
            "11/11 [==============================] - 0s 11ms/step - loss: 0.0992 - accuracy: 0.9682 - val_loss: 0.0572 - val_accuracy: 0.9933\n",
            "Epoch 206/1000\n",
            "11/11 [==============================] - ETA: 0s - loss: 0.0959 - accuracy: 0.9704\n",
            "Epoch 206: saving model to keypoint_classifier.hdf5\n",
            "11/11 [==============================] - 0s 13ms/step - loss: 0.0959 - accuracy: 0.9704 - val_loss: 0.0647 - val_accuracy: 0.9933\n",
            "Epoch 207/1000\n",
            " 1/11 [=>............................] - ETA: 0s - loss: 0.1249 - accuracy: 0.9609\n",
            "Epoch 207: saving model to keypoint_classifier.hdf5\n",
            "11/11 [==============================] - 0s 12ms/step - loss: 0.1042 - accuracy: 0.9712 - val_loss: 0.0634 - val_accuracy: 0.9933\n",
            "Epoch 208/1000\n",
            " 1/11 [=>............................] - ETA: 0s - loss: 0.1021 - accuracy: 0.9688\n",
            "Epoch 208: saving model to keypoint_classifier.hdf5\n",
            "11/11 [==============================] - 0s 11ms/step - loss: 0.0910 - accuracy: 0.9726 - val_loss: 0.0585 - val_accuracy: 0.9933\n",
            "Epoch 209/1000\n",
            " 1/11 [=>............................] - ETA: 0s - loss: 0.0701 - accuracy: 0.9766\n",
            "Epoch 209: saving model to keypoint_classifier.hdf5\n",
            "11/11 [==============================] - 0s 12ms/step - loss: 0.0971 - accuracy: 0.9704 - val_loss: 0.0579 - val_accuracy: 0.9933\n",
            "Epoch 210/1000\n",
            " 1/11 [=>............................] - ETA: 0s - loss: 0.0861 - accuracy: 0.9688\n",
            "Epoch 210: saving model to keypoint_classifier.hdf5\n",
            "11/11 [==============================] - 0s 12ms/step - loss: 0.1033 - accuracy: 0.9660 - val_loss: 0.0612 - val_accuracy: 0.9933\n",
            "Epoch 211/1000\n",
            " 1/11 [=>............................] - ETA: 0s - loss: 0.0879 - accuracy: 0.9609\n",
            "Epoch 211: saving model to keypoint_classifier.hdf5\n",
            "11/11 [==============================] - 0s 11ms/step - loss: 0.0854 - accuracy: 0.9763 - val_loss: 0.0657 - val_accuracy: 0.9933\n",
            "Epoch 212/1000\n",
            " 1/11 [=>............................] - ETA: 0s - loss: 0.0931 - accuracy: 0.9766\n",
            "Epoch 212: saving model to keypoint_classifier.hdf5\n",
            "11/11 [==============================] - 0s 12ms/step - loss: 0.1038 - accuracy: 0.9689 - val_loss: 0.0585 - val_accuracy: 0.9933\n",
            "Epoch 213/1000\n",
            " 1/11 [=>............................] - ETA: 0s - loss: 0.0774 - accuracy: 0.9688\n",
            "Epoch 213: saving model to keypoint_classifier.hdf5\n",
            "11/11 [==============================] - 0s 12ms/step - loss: 0.1010 - accuracy: 0.9697 - val_loss: 0.0677 - val_accuracy: 0.9933\n",
            "Epoch 214/1000\n",
            "11/11 [==============================] - ETA: 0s - loss: 0.0879 - accuracy: 0.9771\n",
            "Epoch 214: saving model to keypoint_classifier.hdf5\n",
            "11/11 [==============================] - 0s 15ms/step - loss: 0.0879 - accuracy: 0.9771 - val_loss: 0.0690 - val_accuracy: 0.9933\n",
            "Epoch 215/1000\n",
            "11/11 [==============================] - ETA: 0s - loss: 0.1009 - accuracy: 0.9697\n",
            "Epoch 215: saving model to keypoint_classifier.hdf5\n",
            "11/11 [==============================] - 0s 14ms/step - loss: 0.1009 - accuracy: 0.9697 - val_loss: 0.0555 - val_accuracy: 0.9933\n",
            "Epoch 216/1000\n",
            " 1/11 [=>............................] - ETA: 0s - loss: 0.0508 - accuracy: 0.9922\n",
            "Epoch 216: saving model to keypoint_classifier.hdf5\n",
            "11/11 [==============================] - 0s 11ms/step - loss: 0.0978 - accuracy: 0.9741 - val_loss: 0.0598 - val_accuracy: 0.9933\n",
            "Epoch 217/1000\n",
            " 1/11 [=>............................] - ETA: 0s - loss: 0.1805 - accuracy: 0.9297\n",
            "Epoch 217: saving model to keypoint_classifier.hdf5\n",
            "11/11 [==============================] - 0s 11ms/step - loss: 0.1034 - accuracy: 0.9667 - val_loss: 0.0580 - val_accuracy: 0.9933\n",
            "Epoch 218/1000\n",
            " 1/11 [=>............................] - ETA: 0s - loss: 0.0670 - accuracy: 0.9844\n",
            "Epoch 218: saving model to keypoint_classifier.hdf5\n",
            "11/11 [==============================] - 0s 11ms/step - loss: 0.0866 - accuracy: 0.9756 - val_loss: 0.0586 - val_accuracy: 0.9933\n",
            "Epoch 218: early stopping\n"
          ]
        },
        {
          "output_type": "execute_result",
          "data": {
            "text/plain": [
              "<keras.callbacks.History at 0x7ff160233310>"
            ]
          },
          "metadata": {},
          "execution_count": 23
        }
      ]
    },
    {
      "cell_type": "code",
      "metadata": {
        "id": "pxvb2Y299hE3",
        "colab": {
          "base_uri": "https://localhost:8080/"
        },
        "outputId": "989f997d-873d-470d-c9c8-3c9440a0525a"
      },
      "source": [
        "# Model evaluation\n",
        "val_loss, val_acc = model.evaluate(X_test, y_test, batch_size=128)"
      ],
      "execution_count": 24,
      "outputs": [
        {
          "output_type": "stream",
          "name": "stdout",
          "text": [
            "4/4 [==============================] - 0s 5ms/step - loss: 0.0586 - accuracy: 0.9933\n"
          ]
        }
      ]
    },
    {
      "cell_type": "code",
      "metadata": {
        "id": "RBkmDeUW9hE4"
      },
      "source": [
        "# Loading the saved model\n",
        "model = tf.keras.models.load_model(model_save_path)"
      ],
      "execution_count": 25,
      "outputs": []
    },
    {
      "cell_type": "code",
      "metadata": {
        "id": "tFz9Tb0I9hE4",
        "colab": {
          "base_uri": "https://localhost:8080/"
        },
        "outputId": "b4a950ee-7e0c-40f9-9924-35e888a72858"
      },
      "source": [
        "# Inference test\n",
        "predict_result = model.predict(np.array([X_test[0]]))\n",
        "print(np.squeeze(predict_result))\n",
        "print(np.argmax(np.squeeze(predict_result)))"
      ],
      "execution_count": 26,
      "outputs": [
        {
          "output_type": "stream",
          "name": "stdout",
          "text": [
            "[2.6873885e-11 9.9964011e-01 3.5982492e-04]\n",
            "1\n"
          ]
        }
      ]
    },
    {
      "cell_type": "markdown",
      "metadata": {
        "id": "S3U4yNWx9hE4"
      },
      "source": [
        "# Confusion matrix"
      ]
    },
    {
      "cell_type": "code",
      "metadata": {
        "id": "AP1V6SCk9hE5",
        "colab": {
          "base_uri": "https://localhost:8080/",
          "height": 575
        },
        "outputId": "fe9d1098-c269-4b3b-cd1a-729ccdead2db"
      },
      "source": [
        "import pandas as pd\n",
        "import seaborn as sns\n",
        "import matplotlib.pyplot as plt\n",
        "from sklearn.metrics import confusion_matrix, classification_report\n",
        "\n",
        "def print_confusion_matrix(y_true, y_pred, report=True):\n",
        "    labels = sorted(list(set(y_true)))\n",
        "    cmx_data = confusion_matrix(y_true, y_pred, labels=labels)\n",
        "    \n",
        "    df_cmx = pd.DataFrame(cmx_data, index=labels, columns=labels)\n",
        " \n",
        "    fig, ax = plt.subplots(figsize=(7, 6))\n",
        "    sns.heatmap(df_cmx, annot=True, fmt='g' ,square=False)\n",
        "    ax.set_ylim(len(set(y_true)), 0)\n",
        "    plt.show()\n",
        "    \n",
        "    if report:\n",
        "        print('Classification Report')\n",
        "        print(classification_report(y_test, y_pred))\n",
        "\n",
        "Y_pred = model.predict(X_test)\n",
        "y_pred = np.argmax(Y_pred, axis=1)\n",
        "\n",
        "print_confusion_matrix(y_test, y_pred)"
      ],
      "execution_count": 27,
      "outputs": [
        {
          "output_type": "display_data",
          "data": {
            "text/plain": [
              "<Figure size 504x432 with 2 Axes>"
            ],
            "image/png": "[encoded data removed]"
          },
          "metadata": {
            "needs_background": "light"
          }
        },
        {
          "output_type": "stream",
          "name": "stdout",
          "text": [
            "Classification Report\n",
            "              precision    recall  f1-score   support\n",
            "\n",
            "           0       0.99      1.00      1.00       155\n",
            "           1       0.99      0.99      0.99       133\n",
            "           2       1.00      0.99      0.99       163\n",
            "\n",
            "    accuracy                           0.99       451\n",
            "   macro avg       0.99      0.99      0.99       451\n",
            "weighted avg       0.99      0.99      0.99       451\n",
            "\n"
          ]
        }
      ]
    },
    {
      "cell_type": "markdown",
      "metadata": {
        "id": "FNP6aqzc9hE5"
      },
      "source": [
        "# Convert to model for Tensorflow-Lite"
      ]
    },
    {
      "cell_type": "code",
      "metadata": {
        "id": "ODjnYyld9hE6"
      },
      "source": [
        "# Save as a model dedicated to inference\n",
        "model.save(model_save_path, include_optimizer=False)"
      ],
      "execution_count": 28,
      "outputs": []
    },
    {
      "cell_type": "code",
      "metadata": {
        "id": "zRfuK8Y59hE6",
        "colab": {
          "base_uri": "https://localhost:8080/"
        },
        "outputId": "2d1ae0dc-3e53-4b9c-8c11-45b50536f069"
      },
      "source": [
        "# Transform model (quantization)\n",
        "\n",
        "converter = tf.lite.TFLiteConverter.from_keras_model(model)\n",
        "converter.optimizations = [tf.lite.Optimize.DEFAULT]\n",
        "tflite_quantized_model = converter.convert()\n",
        "\n",
        "open(tflite_save_path, 'wb').write(tflite_quantized_model)"
      ],
      "execution_count": 29,
      "outputs": [
        {
          "output_type": "stream",
          "name": "stdout",
          "text": [
            "INFO:tensorflow:Assets written to: /tmp/tmpp36d8gs1/assets\n"
          ]
        },
        {
          "output_type": "stream",
          "name": "stderr",
          "text": [
            "WARNING:absl:Buffer deduplication procedure will be skipped when flatbuffer library is not properly loaded\n"
          ]
        },
        {
          "output_type": "execute_result",
          "data": {
            "text/plain": [
              "6368"
            ]
          },
          "metadata": {},
          "execution_count": 29
        }
      ]
    },
    {
      "cell_type": "markdown",
      "metadata": {
        "id": "CHBPBXdx9hE6"
      },
      "source": [
        "# Inference test"
      ]
    },
    {
      "cell_type": "code",
      "metadata": {
        "id": "mGAzLocO9hE7"
      },
      "source": [
        "interpreter = tf.lite.Interpreter(model_path=tflite_save_path)\n",
        "interpreter.allocate_tensors()"
      ],
      "execution_count": 30,
      "outputs": []
    },
    {
      "cell_type": "code",
      "metadata": {
        "id": "oQuDK8YS9hE7"
      },
      "source": [
        "# Get I / O tensor\n",
        "input_details = interpreter.get_input_details()\n",
        "output_details = interpreter.get_output_details()"
      ],
      "execution_count": 31,
      "outputs": []
    },
    {
      "cell_type": "code",
      "metadata": {
        "id": "2_ixAf_l9hE7"
      },
      "source": [
        "interpreter.set_tensor(input_details[0]['index'], np.array([X_test[0]]).astype(np.float32))"
      ],
      "execution_count": 33,
      "outputs": []
    },
    {
      "cell_type": "code",
      "metadata": {
        "scrolled": true,
        "id": "s4FoAnuc9hE7",
        "colab": {
          "base_uri": "https://localhost:8080/"
        },
        "outputId": "055c208d-1d96-46e7-98d6-972a8e10b587"
      },
      "source": [
        "%%time\n",
        "# Inference implementation\n",
        "interpreter.invoke()\n",
        "tflite_results = interpreter.get_tensor(output_details[0]['index'])"
      ],
      "execution_count": 34,
      "outputs": [
        {
          "output_type": "stream",
          "name": "stdout",
          "text": [
            "CPU times: user 1.09 ms, sys: 1.54 ms, total: 2.63 ms\n",
            "Wall time: 16 ms\n"
          ]
        }
      ]
    },
    {
      "cell_type": "code",
      "metadata": {
        "id": "vONjp19J9hE8",
        "colab": {
          "base_uri": "https://localhost:8080/"
        },
        "outputId": "0e09c220-ebdb-49b2-d679-26819ebcb316"
      },
      "source": [
        "print(np.squeeze(tflite_results))\n",
        "print(np.argmax(np.squeeze(tflite_results)))"
      ],
      "execution_count": 35,
      "outputs": [
        {
          "output_type": "stream",
          "name": "stdout",
          "text": [
            "[2.6873885e-11 9.9964011e-01 3.5982495e-04]\n",
            "1\n"
          ]
        }
      ]
    },
    {
      "cell_type": "code",
      "source": [
        ""
      ],
      "metadata": {
        "colab": {
          "base_uri": "https://localhost:8080/"
        },
        "id": "ExzUE-Laj376",
        "outputId": "428fecaf-de8d-444c-8e00-757eb8115bc7"
      },
      "execution_count": 38,
      "outputs": [
        {
          "output_type": "execute_result",
          "data": {
            "text/plain": [
              "1"
            ]
          },
          "metadata": {},
          "execution_count": 38
        }
      ]
    },
    {
      "cell_type": "code",
      "source": [
        ""
      ],
      "metadata": {
        "colab": {
          "base_uri": "https://localhost:8080/"
        },
        "id": "vHgs5FsdkK0B",
        "outputId": "de87cb12-df10-4a98-cd55-e294473c86c1"
      },
      "execution_count": 39,
      "outputs": [
        {
          "output_type": "execute_result",
          "data": {
            "text/plain": [
              "array([1, 1, 2, 0, 0, 0, 1, 0, 1, 1, 2, 1, 0, 0, 1, 1, 0, 2, 2, 0, 0, 1,\n",
              "       2, 0, 0, 1, 2, 2, 2, 2, 2, 2, 0, 1, 1, 0, 2, 2, 2, 1, 0, 2, 2, 1,\n",
              "       1, 0, 0, 1, 0, 1, 1, 1, 2, 1, 0, 2, 0, 0, 0, 2, 0, 0, 1, 1, 1, 0,\n",
              "       2, 1, 2, 2, 1, 0, 0, 2, 2, 2, 0, 1, 2, 0, 0, 0, 2, 1, 0, 2, 2, 2,\n",
              "       1, 0, 0, 0, 0, 2, 2, 1, 1, 0, 1, 0, 2, 2, 1, 1, 2, 2, 2, 0, 0, 0,\n",
              "       2, 2, 1, 0, 1, 1, 1, 0, 1, 0, 2, 2, 0, 2, 2, 2, 1, 0, 2, 1, 0, 0,\n",
              "       1, 0, 1, 2, 0, 0, 2, 0, 0, 2, 0, 1, 0, 2, 1, 0, 0, 1, 0, 0, 2, 2,\n",
              "       0, 0, 1, 1, 1, 0, 2, 0, 2, 0, 0, 0, 1, 2, 0, 2, 2, 2, 2, 0, 2, 1,\n",
              "       0, 1, 2, 2, 0, 0, 1, 1, 2, 1, 0, 1, 1, 0, 2, 2, 1, 2, 2, 0, 0, 0,\n",
              "       2, 2, 0, 2, 0, 1, 2, 0, 1, 2, 0, 2, 1, 1, 0, 2, 2, 1, 2, 2, 1, 1,\n",
              "       0, 1, 1, 2, 2, 0, 0, 0, 2, 2, 0, 1, 1, 0, 0, 2, 2, 0, 1, 0, 1, 2,\n",
              "       2, 1, 0, 1, 1, 0, 1, 2, 2, 1, 2, 0, 0, 1, 0, 1, 1, 2, 2, 1, 2, 0,\n",
              "       2, 1, 0, 2, 0, 2, 1, 0, 0, 0, 0, 2, 2, 2, 1, 0, 2, 2, 2, 1, 0, 1,\n",
              "       0, 2, 1, 2, 2, 1, 1, 0, 0, 0, 0, 2, 0, 0, 2, 2, 2, 0, 1, 1, 2, 2,\n",
              "       1, 0, 0, 0, 2, 0, 0, 2, 0, 1, 1, 2, 1, 2, 2, 0, 0, 1, 0, 0, 1, 1,\n",
              "       1, 2, 2, 1, 2, 2, 2, 0, 0, 2, 0, 1, 2, 0, 1, 1, 2, 2, 2, 1, 0, 2,\n",
              "       0, 1, 0, 2, 0, 2, 2, 2, 1, 2, 2, 0, 1, 1, 2, 0, 2, 0, 1, 0, 2, 1,\n",
              "       2, 1, 0, 0, 0, 2, 1, 1, 2, 0, 1, 0, 1, 1, 0, 1, 1, 1, 1, 2, 2, 1,\n",
              "       1, 2, 1, 2, 2, 0, 0, 2, 2, 0, 0, 0, 0, 2, 0, 0, 2, 0, 2, 2, 2, 2,\n",
              "       1, 2, 1, 2, 1, 0, 2, 1, 0, 2, 1, 1, 1, 1, 2, 2, 1, 0, 2, 2, 1, 2,\n",
              "       1, 0, 2, 2, 1, 2, 0, 2, 0, 0, 2])"
            ]
          },
          "metadata": {},
          "execution_count": 39
        }
      ]
    },
    {
      "cell_type": "code",
      "source": [
        ""
      ],
      "metadata": {
        "id": "DjqNvO5BkfH7"
      },
      "execution_count": null,
      "outputs": []
    }
  ]
}